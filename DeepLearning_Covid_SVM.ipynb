{
 "cells": [
  {
   "cell_type": "code",
   "execution_count": 1,
   "id": "e63b57e0",
   "metadata": {},
   "outputs": [],
   "source": [
    "import pandas as pd"
   ]
  },
  {
   "cell_type": "code",
   "execution_count": 2,
   "id": "bf542284",
   "metadata": {},
   "outputs": [
    {
     "data": {
      "text/html": [
       "<div>\n",
       "<style scoped>\n",
       "    .dataframe tbody tr th:only-of-type {\n",
       "        vertical-align: middle;\n",
       "    }\n",
       "\n",
       "    .dataframe tbody tr th {\n",
       "        vertical-align: top;\n",
       "    }\n",
       "\n",
       "    .dataframe thead th {\n",
       "        text-align: right;\n",
       "    }\n",
       "</style>\n",
       "<table border=\"1\" class=\"dataframe\">\n",
       "  <thead>\n",
       "    <tr style=\"text-align: right;\">\n",
       "      <th></th>\n",
       "      <th>tweet</th>\n",
       "      <th>label</th>\n",
       "    </tr>\n",
       "  </thead>\n",
       "  <tbody>\n",
       "    <tr>\n",
       "      <th>0</th>\n",
       "      <td>Coronavirus | Human Coronavirus Types | CDC ht...</td>\n",
       "      <td>neu</td>\n",
       "    </tr>\n",
       "    <tr>\n",
       "      <th>1</th>\n",
       "      <td>@shehryar_taseer That‚Äôs üíØ true , \\nCorona...</td>\n",
       "      <td>neu</td>\n",
       "    </tr>\n",
       "    <tr>\n",
       "      <th>2</th>\n",
       "      <td>TLDR: Not SARS, possibly new coronavirus. Diff...</td>\n",
       "      <td>neg</td>\n",
       "    </tr>\n",
       "    <tr>\n",
       "      <th>3</th>\n",
       "      <td>Disease outbreak news from the WHO: Middle Eas...</td>\n",
       "      <td>neu</td>\n",
       "    </tr>\n",
       "    <tr>\n",
       "      <th>4</th>\n",
       "      <td>China - Media: WSJ says sources tell them myst...</td>\n",
       "      <td>neu</td>\n",
       "    </tr>\n",
       "    <tr>\n",
       "      <th>...</th>\n",
       "      <td>...</td>\n",
       "      <td>...</td>\n",
       "    </tr>\n",
       "    <tr>\n",
       "      <th>29995</th>\n",
       "      <td>CDC: Re-test confirms Westerdam cruise ship pa...</td>\n",
       "      <td>neu</td>\n",
       "    </tr>\n",
       "    <tr>\n",
       "      <th>29996</th>\n",
       "      <td>Two doctors die of coronavirus within 24 hours...</td>\n",
       "      <td>neu</td>\n",
       "    </tr>\n",
       "    <tr>\n",
       "      <th>29997</th>\n",
       "      <td>BEIJING - The lockdown of Guo Jing's neighbour...</td>\n",
       "      <td>neu</td>\n",
       "    </tr>\n",
       "    <tr>\n",
       "      <th>29998</th>\n",
       "      <td>#CoronavirusOutbreak in #Balochistan !!\\n#CPEC...</td>\n",
       "      <td>neu</td>\n",
       "    </tr>\n",
       "    <tr>\n",
       "      <th>29999</th>\n",
       "      <td>The Australian dollar has hit a fresh decade l...</td>\n",
       "      <td>neu</td>\n",
       "    </tr>\n",
       "  </tbody>\n",
       "</table>\n",
       "<p>30000 rows × 2 columns</p>\n",
       "</div>"
      ],
      "text/plain": [
       "                                                   tweet label\n",
       "0      Coronavirus | Human Coronavirus Types | CDC ht...   neu\n",
       "1      @shehryar_taseer That‚Äôs üíØ true , \\nCorona...   neu\n",
       "2      TLDR: Not SARS, possibly new coronavirus. Diff...   neg\n",
       "3      Disease outbreak news from the WHO: Middle Eas...   neu\n",
       "4      China - Media: WSJ says sources tell them myst...   neu\n",
       "...                                                  ...   ...\n",
       "29995  CDC: Re-test confirms Westerdam cruise ship pa...   neu\n",
       "29996  Two doctors die of coronavirus within 24 hours...   neu\n",
       "29997  BEIJING - The lockdown of Guo Jing's neighbour...   neu\n",
       "29998  #CoronavirusOutbreak in #Balochistan !!\\n#CPEC...   neu\n",
       "29999  The Australian dollar has hit a fresh decade l...   neu\n",
       "\n",
       "[30000 rows x 2 columns]"
      ]
     },
     "execution_count": 2,
     "metadata": {},
     "output_type": "execute_result"
    }
   ],
   "source": [
    "data=pd.read_csv(r'C:\\Users\\Fidha\\Downloads\\COVIDSenti-A.csv')\n",
    "data"
   ]
  },
  {
   "cell_type": "code",
   "execution_count": 3,
   "id": "0082ba27",
   "metadata": {},
   "outputs": [
    {
     "data": {
      "text/html": [
       "<div>\n",
       "<style scoped>\n",
       "    .dataframe tbody tr th:only-of-type {\n",
       "        vertical-align: middle;\n",
       "    }\n",
       "\n",
       "    .dataframe tbody tr th {\n",
       "        vertical-align: top;\n",
       "    }\n",
       "\n",
       "    .dataframe thead th {\n",
       "        text-align: right;\n",
       "    }\n",
       "</style>\n",
       "<table border=\"1\" class=\"dataframe\">\n",
       "  <thead>\n",
       "    <tr style=\"text-align: right;\">\n",
       "      <th></th>\n",
       "      <th>tweet</th>\n",
       "      <th>label</th>\n",
       "    </tr>\n",
       "  </thead>\n",
       "  <tbody>\n",
       "    <tr>\n",
       "      <th>0</th>\n",
       "      <td>Coronavirus | Human Coronavirus Types | CDC ht...</td>\n",
       "      <td>neu</td>\n",
       "    </tr>\n",
       "    <tr>\n",
       "      <th>1</th>\n",
       "      <td>@shehryar_taseer That‚Äôs üíØ true , \\nCorona...</td>\n",
       "      <td>neu</td>\n",
       "    </tr>\n",
       "    <tr>\n",
       "      <th>2</th>\n",
       "      <td>TLDR: Not SARS, possibly new coronavirus. Diff...</td>\n",
       "      <td>neg</td>\n",
       "    </tr>\n",
       "    <tr>\n",
       "      <th>3</th>\n",
       "      <td>Disease outbreak news from the WHO: Middle Eas...</td>\n",
       "      <td>neu</td>\n",
       "    </tr>\n",
       "    <tr>\n",
       "      <th>4</th>\n",
       "      <td>China - Media: WSJ says sources tell them myst...</td>\n",
       "      <td>neu</td>\n",
       "    </tr>\n",
       "  </tbody>\n",
       "</table>\n",
       "</div>"
      ],
      "text/plain": [
       "                                               tweet label\n",
       "0  Coronavirus | Human Coronavirus Types | CDC ht...   neu\n",
       "1  @shehryar_taseer That‚Äôs üíØ true , \\nCorona...   neu\n",
       "2  TLDR: Not SARS, possibly new coronavirus. Diff...   neg\n",
       "3  Disease outbreak news from the WHO: Middle Eas...   neu\n",
       "4  China - Media: WSJ says sources tell them myst...   neu"
      ]
     },
     "execution_count": 3,
     "metadata": {},
     "output_type": "execute_result"
    }
   ],
   "source": [
    "data.head()"
   ]
  },
  {
   "cell_type": "code",
   "execution_count": 4,
   "id": "9495d50a",
   "metadata": {},
   "outputs": [
    {
     "data": {
      "text/plain": [
       "(30000, 2)"
      ]
     },
     "execution_count": 4,
     "metadata": {},
     "output_type": "execute_result"
    }
   ],
   "source": [
    "data.shape"
   ]
  },
  {
   "cell_type": "code",
   "execution_count": 5,
   "id": "e2dea32c",
   "metadata": {},
   "outputs": [
    {
     "data": {
      "text/plain": [
       "Index(['tweet', 'label'], dtype='object')"
      ]
     },
     "execution_count": 5,
     "metadata": {},
     "output_type": "execute_result"
    }
   ],
   "source": [
    "data.columns"
   ]
  },
  {
   "cell_type": "code",
   "execution_count": 6,
   "id": "b64cbc0b",
   "metadata": {},
   "outputs": [
    {
     "name": "stdout",
     "output_type": "stream",
     "text": [
      "<class 'pandas.core.frame.DataFrame'>\n",
      "RangeIndex: 30000 entries, 0 to 29999\n",
      "Data columns (total 2 columns):\n",
      " #   Column  Non-Null Count  Dtype \n",
      "---  ------  --------------  ----- \n",
      " 0   tweet   30000 non-null  object\n",
      " 1   label   30000 non-null  object\n",
      "dtypes: object(2)\n",
      "memory usage: 468.9+ KB\n"
     ]
    }
   ],
   "source": [
    "data.info()"
   ]
  },
  {
   "cell_type": "markdown",
   "id": "2598c2d2",
   "metadata": {},
   "source": [
    "#### Going deeper into tweet and sentiment"
   ]
  },
  {
   "cell_type": "code",
   "execution_count": 7,
   "id": "238d57ac",
   "metadata": {},
   "outputs": [
    {
     "data": {
      "text/html": [
       "<div>\n",
       "<style scoped>\n",
       "    .dataframe tbody tr th:only-of-type {\n",
       "        vertical-align: middle;\n",
       "    }\n",
       "\n",
       "    .dataframe tbody tr th {\n",
       "        vertical-align: top;\n",
       "    }\n",
       "\n",
       "    .dataframe thead th {\n",
       "        text-align: right;\n",
       "    }\n",
       "</style>\n",
       "<table border=\"1\" class=\"dataframe\">\n",
       "  <thead>\n",
       "    <tr style=\"text-align: right;\">\n",
       "      <th></th>\n",
       "      <th>tweet</th>\n",
       "      <th>label</th>\n",
       "    </tr>\n",
       "  </thead>\n",
       "  <tbody>\n",
       "    <tr>\n",
       "      <th>count</th>\n",
       "      <td>30000</td>\n",
       "      <td>30000</td>\n",
       "    </tr>\n",
       "    <tr>\n",
       "      <th>unique</th>\n",
       "      <td>29987</td>\n",
       "      <td>3</td>\n",
       "    </tr>\n",
       "    <tr>\n",
       "      <th>top</th>\n",
       "      <td>Copper price and coronavirus: ‚ÄúBlack swan li...</td>\n",
       "      <td>neu</td>\n",
       "    </tr>\n",
       "    <tr>\n",
       "      <th>freq</th>\n",
       "      <td>3</td>\n",
       "      <td>22949</td>\n",
       "    </tr>\n",
       "  </tbody>\n",
       "</table>\n",
       "</div>"
      ],
      "text/plain": [
       "                                                    tweet  label\n",
       "count                                               30000  30000\n",
       "unique                                              29987      3\n",
       "top     Copper price and coronavirus: ‚ÄúBlack swan li...    neu\n",
       "freq                                                    3  22949"
      ]
     },
     "execution_count": 7,
     "metadata": {},
     "output_type": "execute_result"
    }
   ],
   "source": [
    "data.describe()"
   ]
  },
  {
   "cell_type": "code",
   "execution_count": 8,
   "id": "21d9b6f3",
   "metadata": {},
   "outputs": [
    {
     "data": {
      "text/plain": [
       "neu    22949\n",
       "neg     5083\n",
       "pos     1968\n",
       "Name: label, dtype: int64"
      ]
     },
     "execution_count": 8,
     "metadata": {},
     "output_type": "execute_result"
    }
   ],
   "source": [
    "data.label.value_counts()"
   ]
  },
  {
   "cell_type": "code",
   "execution_count": 9,
   "id": "2bb27210",
   "metadata": {},
   "outputs": [
    {
     "data": {
      "text/html": [
       "<div>\n",
       "<style scoped>\n",
       "    .dataframe tbody tr th:only-of-type {\n",
       "        vertical-align: middle;\n",
       "    }\n",
       "\n",
       "    .dataframe tbody tr th {\n",
       "        vertical-align: top;\n",
       "    }\n",
       "\n",
       "    .dataframe thead th {\n",
       "        text-align: right;\n",
       "    }\n",
       "</style>\n",
       "<table border=\"1\" class=\"dataframe\">\n",
       "  <thead>\n",
       "    <tr style=\"text-align: right;\">\n",
       "      <th></th>\n",
       "      <th>tweet</th>\n",
       "      <th>label</th>\n",
       "    </tr>\n",
       "  </thead>\n",
       "  <tbody>\n",
       "    <tr>\n",
       "      <th>2</th>\n",
       "      <td>TLDR: Not SARS, possibly new coronavirus. Diff...</td>\n",
       "      <td>neg</td>\n",
       "    </tr>\n",
       "    <tr>\n",
       "      <th>8</th>\n",
       "      <td>@tezuma75 Why #CCP keep on saying unknown caus...</td>\n",
       "      <td>neg</td>\n",
       "    </tr>\n",
       "    <tr>\n",
       "      <th>11</th>\n",
       "      <td>I always feel weird hoping for another coronav...</td>\n",
       "      <td>neg</td>\n",
       "    </tr>\n",
       "    <tr>\n",
       "      <th>16</th>\n",
       "      <td>@KariDebbink @Vineet321 The Frieman Scary Scal...</td>\n",
       "      <td>neg</td>\n",
       "    </tr>\n",
       "    <tr>\n",
       "      <th>18</th>\n",
       "      <td>Crap, a quick blast search suggests the Wuhan ...</td>\n",
       "      <td>neg</td>\n",
       "    </tr>\n",
       "    <tr>\n",
       "      <th>...</th>\n",
       "      <td>...</td>\n",
       "      <td>...</td>\n",
       "    </tr>\n",
       "    <tr>\n",
       "      <th>29970</th>\n",
       "      <td>One can only hope that an upside of this #coro...</td>\n",
       "      <td>neg</td>\n",
       "    </tr>\n",
       "    <tr>\n",
       "      <th>29975</th>\n",
       "      <td>@cnni A deadly outbreak of the coronavirus eme...</td>\n",
       "      <td>neg</td>\n",
       "    </tr>\n",
       "    <tr>\n",
       "      <th>29982</th>\n",
       "      <td>Samsung Shuts Down Factory in South Korea Due ...</td>\n",
       "      <td>neg</td>\n",
       "    </tr>\n",
       "    <tr>\n",
       "      <th>29991</th>\n",
       "      <td>@heidijo1 @brianschatz Come Novemeber, if he‚Ä...</td>\n",
       "      <td>neg</td>\n",
       "    </tr>\n",
       "    <tr>\n",
       "      <th>29992</th>\n",
       "      <td>Feel bad for both South Korea and Italy with t...</td>\n",
       "      <td>neg</td>\n",
       "    </tr>\n",
       "  </tbody>\n",
       "</table>\n",
       "<p>5083 rows × 2 columns</p>\n",
       "</div>"
      ],
      "text/plain": [
       "                                                   tweet label\n",
       "2      TLDR: Not SARS, possibly new coronavirus. Diff...   neg\n",
       "8      @tezuma75 Why #CCP keep on saying unknown caus...   neg\n",
       "11     I always feel weird hoping for another coronav...   neg\n",
       "16     @KariDebbink @Vineet321 The Frieman Scary Scal...   neg\n",
       "18     Crap, a quick blast search suggests the Wuhan ...   neg\n",
       "...                                                  ...   ...\n",
       "29970  One can only hope that an upside of this #coro...   neg\n",
       "29975  @cnni A deadly outbreak of the coronavirus eme...   neg\n",
       "29982  Samsung Shuts Down Factory in South Korea Due ...   neg\n",
       "29991  @heidijo1 @brianschatz Come Novemeber, if he‚Ä...   neg\n",
       "29992  Feel bad for both South Korea and Italy with t...   neg\n",
       "\n",
       "[5083 rows x 2 columns]"
      ]
     },
     "execution_count": 9,
     "metadata": {},
     "output_type": "execute_result"
    }
   ],
   "source": [
    "data[data['label']=='neg']"
   ]
  },
  {
   "cell_type": "code",
   "execution_count": 10,
   "id": "5b5104ba",
   "metadata": {},
   "outputs": [
    {
     "data": {
      "text/html": [
       "<div>\n",
       "<style scoped>\n",
       "    .dataframe tbody tr th:only-of-type {\n",
       "        vertical-align: middle;\n",
       "    }\n",
       "\n",
       "    .dataframe tbody tr th {\n",
       "        vertical-align: top;\n",
       "    }\n",
       "\n",
       "    .dataframe thead th {\n",
       "        text-align: right;\n",
       "    }\n",
       "</style>\n",
       "<table border=\"1\" class=\"dataframe\">\n",
       "  <thead>\n",
       "    <tr style=\"text-align: right;\">\n",
       "      <th></th>\n",
       "      <th>tweet</th>\n",
       "      <th>label</th>\n",
       "    </tr>\n",
       "  </thead>\n",
       "  <tbody>\n",
       "    <tr>\n",
       "      <th>70</th>\n",
       "      <td>Novel #Wuhan #coronavirus virus cases leap up....</td>\n",
       "      <td>pos</td>\n",
       "    </tr>\n",
       "    <tr>\n",
       "      <th>104</th>\n",
       "      <td>As #coronavirus spreads to more cities in #Chi...</td>\n",
       "      <td>pos</td>\n",
       "    </tr>\n",
       "    <tr>\n",
       "      <th>111</th>\n",
       "      <td>Experts fear latest strain of virus may spread...</td>\n",
       "      <td>pos</td>\n",
       "    </tr>\n",
       "    <tr>\n",
       "      <th>113</th>\n",
       "      <td>Human-to-Human Transmission Confirmed in China...</td>\n",
       "      <td>pos</td>\n",
       "    </tr>\n",
       "    <tr>\n",
       "      <th>128</th>\n",
       "      <td>The coronavirus has struck 222 people in Asia,...</td>\n",
       "      <td>pos</td>\n",
       "    </tr>\n",
       "    <tr>\n",
       "      <th>...</th>\n",
       "      <td>...</td>\n",
       "      <td>...</td>\n",
       "    </tr>\n",
       "    <tr>\n",
       "      <th>29953</th>\n",
       "      <td>#COVID-19 | Death toll in #China crosses 2,590...</td>\n",
       "      <td>pos</td>\n",
       "    </tr>\n",
       "    <tr>\n",
       "      <th>29957</th>\n",
       "      <td>@KimDamore @BNODesk He‚Äôs on top of the Coron...</td>\n",
       "      <td>pos</td>\n",
       "    </tr>\n",
       "    <tr>\n",
       "      <th>29971</th>\n",
       "      <td>https://t.co/vUlcLEL0Bm\\nüîùü¶† CoronaVirus ...</td>\n",
       "      <td>pos</td>\n",
       "    </tr>\n",
       "    <tr>\n",
       "      <th>29976</th>\n",
       "      <td>#coronavirus Many junior government staff who ...</td>\n",
       "      <td>pos</td>\n",
       "    </tr>\n",
       "    <tr>\n",
       "      <th>29987</th>\n",
       "      <td>@PreetBharara I‚Äôd rather catch the Coronavir...</td>\n",
       "      <td>pos</td>\n",
       "    </tr>\n",
       "  </tbody>\n",
       "</table>\n",
       "<p>1968 rows × 2 columns</p>\n",
       "</div>"
      ],
      "text/plain": [
       "                                                   tweet label\n",
       "70     Novel #Wuhan #coronavirus virus cases leap up....   pos\n",
       "104    As #coronavirus spreads to more cities in #Chi...   pos\n",
       "111    Experts fear latest strain of virus may spread...   pos\n",
       "113    Human-to-Human Transmission Confirmed in China...   pos\n",
       "128    The coronavirus has struck 222 people in Asia,...   pos\n",
       "...                                                  ...   ...\n",
       "29953  #COVID-19 | Death toll in #China crosses 2,590...   pos\n",
       "29957  @KimDamore @BNODesk He‚Äôs on top of the Coron...   pos\n",
       "29971  https://t.co/vUlcLEL0Bm\\nüîùü¶† CoronaVirus ...   pos\n",
       "29976  #coronavirus Many junior government staff who ...   pos\n",
       "29987  @PreetBharara I‚Äôd rather catch the Coronavir...   pos\n",
       "\n",
       "[1968 rows x 2 columns]"
      ]
     },
     "execution_count": 10,
     "metadata": {},
     "output_type": "execute_result"
    }
   ],
   "source": [
    "data[data['label']=='pos']"
   ]
  },
  {
   "cell_type": "code",
   "execution_count": 11,
   "id": "1f9284c3",
   "metadata": {},
   "outputs": [
    {
     "data": {
      "text/html": [
       "<div>\n",
       "<style scoped>\n",
       "    .dataframe tbody tr th:only-of-type {\n",
       "        vertical-align: middle;\n",
       "    }\n",
       "\n",
       "    .dataframe tbody tr th {\n",
       "        vertical-align: top;\n",
       "    }\n",
       "\n",
       "    .dataframe thead th {\n",
       "        text-align: right;\n",
       "    }\n",
       "</style>\n",
       "<table border=\"1\" class=\"dataframe\">\n",
       "  <thead>\n",
       "    <tr style=\"text-align: right;\">\n",
       "      <th></th>\n",
       "      <th>tweet</th>\n",
       "      <th>label</th>\n",
       "    </tr>\n",
       "  </thead>\n",
       "  <tbody>\n",
       "    <tr>\n",
       "      <th>0</th>\n",
       "      <td>Coronavirus | Human Coronavirus Types | CDC ht...</td>\n",
       "      <td>neu</td>\n",
       "    </tr>\n",
       "    <tr>\n",
       "      <th>1</th>\n",
       "      <td>@shehryar_taseer That‚Äôs üíØ true , \\nCorona...</td>\n",
       "      <td>neu</td>\n",
       "    </tr>\n",
       "    <tr>\n",
       "      <th>3</th>\n",
       "      <td>Disease outbreak news from the WHO: Middle Eas...</td>\n",
       "      <td>neu</td>\n",
       "    </tr>\n",
       "    <tr>\n",
       "      <th>4</th>\n",
       "      <td>China - Media: WSJ says sources tell them myst...</td>\n",
       "      <td>neu</td>\n",
       "    </tr>\n",
       "    <tr>\n",
       "      <th>5</th>\n",
       "      <td>The mystery new virus causing #China pneumonia...</td>\n",
       "      <td>neu</td>\n",
       "    </tr>\n",
       "    <tr>\n",
       "      <th>...</th>\n",
       "      <td>...</td>\n",
       "      <td>...</td>\n",
       "    </tr>\n",
       "    <tr>\n",
       "      <th>29995</th>\n",
       "      <td>CDC: Re-test confirms Westerdam cruise ship pa...</td>\n",
       "      <td>neu</td>\n",
       "    </tr>\n",
       "    <tr>\n",
       "      <th>29996</th>\n",
       "      <td>Two doctors die of coronavirus within 24 hours...</td>\n",
       "      <td>neu</td>\n",
       "    </tr>\n",
       "    <tr>\n",
       "      <th>29997</th>\n",
       "      <td>BEIJING - The lockdown of Guo Jing's neighbour...</td>\n",
       "      <td>neu</td>\n",
       "    </tr>\n",
       "    <tr>\n",
       "      <th>29998</th>\n",
       "      <td>#CoronavirusOutbreak in #Balochistan !!\\n#CPEC...</td>\n",
       "      <td>neu</td>\n",
       "    </tr>\n",
       "    <tr>\n",
       "      <th>29999</th>\n",
       "      <td>The Australian dollar has hit a fresh decade l...</td>\n",
       "      <td>neu</td>\n",
       "    </tr>\n",
       "  </tbody>\n",
       "</table>\n",
       "<p>22949 rows × 2 columns</p>\n",
       "</div>"
      ],
      "text/plain": [
       "                                                   tweet label\n",
       "0      Coronavirus | Human Coronavirus Types | CDC ht...   neu\n",
       "1      @shehryar_taseer That‚Äôs üíØ true , \\nCorona...   neu\n",
       "3      Disease outbreak news from the WHO: Middle Eas...   neu\n",
       "4      China - Media: WSJ says sources tell them myst...   neu\n",
       "5      The mystery new virus causing #China pneumonia...   neu\n",
       "...                                                  ...   ...\n",
       "29995  CDC: Re-test confirms Westerdam cruise ship pa...   neu\n",
       "29996  Two doctors die of coronavirus within 24 hours...   neu\n",
       "29997  BEIJING - The lockdown of Guo Jing's neighbour...   neu\n",
       "29998  #CoronavirusOutbreak in #Balochistan !!\\n#CPEC...   neu\n",
       "29999  The Australian dollar has hit a fresh decade l...   neu\n",
       "\n",
       "[22949 rows x 2 columns]"
      ]
     },
     "execution_count": 11,
     "metadata": {},
     "output_type": "execute_result"
    }
   ],
   "source": [
    "data[data['label']=='neu']"
   ]
  },
  {
   "cell_type": "code",
   "execution_count": 12,
   "id": "31ceb089",
   "metadata": {},
   "outputs": [
    {
     "data": {
      "text/plain": [
       "'Genome sequence of the new coronavirus associated with a pneumonia cluster in Wuhan, China: https://t.co/6k5urEWn7G'"
      ]
     },
     "execution_count": 12,
     "metadata": {},
     "output_type": "execute_result"
    }
   ],
   "source": [
    "data[data['label']=='neu'].loc[17,'tweet']"
   ]
  },
  {
   "cell_type": "code",
   "execution_count": 13,
   "id": "ae8d23f8",
   "metadata": {},
   "outputs": [
    {
     "data": {
      "text/plain": [
       "'@KariDebbink @Vineet321 The Frieman Scary Scale makes its debut. Wuhan Coronavirus scores 3 out of 10 N95 masks.'"
      ]
     },
     "execution_count": 13,
     "metadata": {},
     "output_type": "execute_result"
    }
   ],
   "source": [
    "data[data['label']=='neg'].loc[16,'tweet']"
   ]
  },
  {
   "cell_type": "code",
   "execution_count": 14,
   "id": "c3e2839c",
   "metadata": {},
   "outputs": [
    {
     "data": {
      "text/plain": [
       "\"Novel #Wuhan #coronavirus virus cases leap up.\\nLatest blog, which doesn't include 1 case from Shenzhen and 2 cases‚Ä¶ https://t.co/lJks3nQK10\""
      ]
     },
     "execution_count": 14,
     "metadata": {},
     "output_type": "execute_result"
    }
   ],
   "source": [
    "data[data['label']=='pos'].loc[70,'tweet']"
   ]
  },
  {
   "cell_type": "markdown",
   "id": "2fd50307",
   "metadata": {},
   "source": [
    "From the above tweets we can understand that the texts are not plain. We have to clean this text"
   ]
  },
  {
   "cell_type": "markdown",
   "id": "a0f85fb7",
   "metadata": {},
   "source": [
    "#### Looking For Null Values"
   ]
  },
  {
   "cell_type": "code",
   "execution_count": 15,
   "id": "d4920a65",
   "metadata": {},
   "outputs": [
    {
     "data": {
      "text/plain": [
       "tweet    0\n",
       "label    0\n",
       "dtype: int64"
      ]
     },
     "execution_count": 15,
     "metadata": {},
     "output_type": "execute_result"
    }
   ],
   "source": [
    "data.isnull().sum()"
   ]
  },
  {
   "cell_type": "code",
   "execution_count": 16,
   "id": "215f2485",
   "metadata": {},
   "outputs": [
    {
     "data": {
      "image/png": "[encoded data removed]",
      "text/plain": [
       "<Figure size 1224x360 with 2 Axes>"
      ]
     },
     "metadata": {
      "needs_background": "light"
     },
     "output_type": "display_data"
    }
   ],
   "source": [
    "# Heat Map for missing values\n",
    "\n",
    "import matplotlib.pyplot as plt\n",
    "import seaborn as sns\n",
    "plt.figure(figsize=(17, 5))\n",
    "sns.heatmap(data.isnull(), cbar=True, yticklabels=False)\n",
    "plt.xlabel(\"Column_Name\", size=14, weight=\"bold\")\n",
    "plt.title(\"Places of missing values in column\",fontweight=\"bold\",size=17)\n",
    "plt.show()"
   ]
  },
  {
   "cell_type": "markdown",
   "id": "e97aebbb",
   "metadata": {},
   "source": [
    "There is no missing values in the dataset"
   ]
  },
  {
   "cell_type": "markdown",
   "id": "93f89c6a",
   "metadata": {},
   "source": [
    "#### Data Preprocessing"
   ]
  },
  {
   "cell_type": "code",
   "execution_count": 17,
   "id": "d95daebe",
   "metadata": {},
   "outputs": [],
   "source": [
    "import re \n",
    "import numpy as np"
   ]
  },
  {
   "cell_type": "code",
   "execution_count": 18,
   "id": "1fc431c2",
   "metadata": {},
   "outputs": [],
   "source": [
    "# write function for removing @user\n",
    "def remove_pattern(input_txt, pattern):\n",
    "    r = re.findall(pattern, input_txt)\n",
    "    for i in r:\n",
    "        input_txt = re.sub(i,'',input_txt)\n",
    "    return input_txt"
   ]
  },
  {
   "cell_type": "code",
   "execution_count": 19,
   "id": "ac96d5c0",
   "metadata": {},
   "outputs": [],
   "source": [
    "# create new column with removed @user\n",
    "data['tweet'] = np.vectorize(remove_pattern)(data['tweet'], '@[\\w]*')"
   ]
  },
  {
   "cell_type": "code",
   "execution_count": 20,
   "id": "0325d15a",
   "metadata": {},
   "outputs": [],
   "source": [
    "# to remove HTTP and urls from tweets\n",
    "data['tweet'] = data['tweet'].apply(lambda x: re.split('https:\\/\\/.*', str(x))[0])"
   ]
  },
  {
   "cell_type": "code",
   "execution_count": 21,
   "id": "c4be624c",
   "metadata": {},
   "outputs": [
    {
     "name": "stderr",
     "output_type": "stream",
     "text": [
      "C:\\Users\\Fidha\\AppData\\Local\\Temp/ipykernel_17008/1877988735.py:2: FutureWarning: The default value of regex will change from True to False in a future version.\n",
      "  data['tweet'] = data['tweet'].str.replace('[^a-zA-Z#]+',' ')\n"
     ]
    }
   ],
   "source": [
    "# remove special characters, numbers, punctuations\n",
    "data['tweet'] = data['tweet'].str.replace('[^a-zA-Z#]+',' ')"
   ]
  },
  {
   "cell_type": "code",
   "execution_count": 22,
   "id": "1df06bbe",
   "metadata": {},
   "outputs": [],
   "source": [
    "data['tweet'] = data['tweet'].str.replace('#',' ')"
   ]
  },
  {
   "cell_type": "code",
   "execution_count": 23,
   "id": "df6c8a4e",
   "metadata": {},
   "outputs": [],
   "source": [
    "# Making all the words in lower case\n",
    "data['tweet']=data['tweet'].str.lower() "
   ]
  },
  {
   "cell_type": "code",
   "execution_count": 24,
   "id": "fa6dc86a",
   "metadata": {},
   "outputs": [
    {
     "data": {
      "text/html": [
       "<div>\n",
       "<style scoped>\n",
       "    .dataframe tbody tr th:only-of-type {\n",
       "        vertical-align: middle;\n",
       "    }\n",
       "\n",
       "    .dataframe tbody tr th {\n",
       "        vertical-align: top;\n",
       "    }\n",
       "\n",
       "    .dataframe thead th {\n",
       "        text-align: right;\n",
       "    }\n",
       "</style>\n",
       "<table border=\"1\" class=\"dataframe\">\n",
       "  <thead>\n",
       "    <tr style=\"text-align: right;\">\n",
       "      <th></th>\n",
       "      <th>tweet</th>\n",
       "      <th>label</th>\n",
       "    </tr>\n",
       "  </thead>\n",
       "  <tbody>\n",
       "    <tr>\n",
       "      <th>0</th>\n",
       "      <td>coronavirus human coronavirus types cdc</td>\n",
       "      <td>neu</td>\n",
       "    </tr>\n",
       "    <tr>\n",
       "      <th>1</th>\n",
       "      <td>that s true corona virus swine flue bird flu ...</td>\n",
       "      <td>neu</td>\n",
       "    </tr>\n",
       "    <tr>\n",
       "      <th>2</th>\n",
       "      <td>tldr not sars possibly new coronavirus difficu...</td>\n",
       "      <td>neg</td>\n",
       "    </tr>\n",
       "    <tr>\n",
       "      <th>3</th>\n",
       "      <td>disease outbreak news from the who middle east...</td>\n",
       "      <td>neu</td>\n",
       "    </tr>\n",
       "    <tr>\n",
       "      <th>4</th>\n",
       "      <td>china media wsj says sources tell them mystery...</td>\n",
       "      <td>neu</td>\n",
       "    </tr>\n",
       "  </tbody>\n",
       "</table>\n",
       "</div>"
      ],
      "text/plain": [
       "                                               tweet label\n",
       "0           coronavirus human coronavirus types cdc    neu\n",
       "1   that s true corona virus swine flue bird flu ...   neu\n",
       "2  tldr not sars possibly new coronavirus difficu...   neg\n",
       "3  disease outbreak news from the who middle east...   neu\n",
       "4  china media wsj says sources tell them mystery...   neu"
      ]
     },
     "execution_count": 24,
     "metadata": {},
     "output_type": "execute_result"
    }
   ],
   "source": [
    "data.head()"
   ]
  },
  {
   "cell_type": "code",
   "execution_count": 25,
   "id": "0280040a",
   "metadata": {},
   "outputs": [],
   "source": [
    "#data.drop('Tweet',axis=1,inplace=True)"
   ]
  },
  {
   "cell_type": "code",
   "execution_count": 26,
   "id": "f513d3aa",
   "metadata": {},
   "outputs": [
    {
     "data": {
      "text/html": [
       "<div>\n",
       "<style scoped>\n",
       "    .dataframe tbody tr th:only-of-type {\n",
       "        vertical-align: middle;\n",
       "    }\n",
       "\n",
       "    .dataframe tbody tr th {\n",
       "        vertical-align: top;\n",
       "    }\n",
       "\n",
       "    .dataframe thead th {\n",
       "        text-align: right;\n",
       "    }\n",
       "</style>\n",
       "<table border=\"1\" class=\"dataframe\">\n",
       "  <thead>\n",
       "    <tr style=\"text-align: right;\">\n",
       "      <th></th>\n",
       "      <th>tweet</th>\n",
       "      <th>label</th>\n",
       "    </tr>\n",
       "  </thead>\n",
       "  <tbody>\n",
       "    <tr>\n",
       "      <th>0</th>\n",
       "      <td>coronavirus human coronavirus types cdc</td>\n",
       "      <td>neu</td>\n",
       "    </tr>\n",
       "    <tr>\n",
       "      <th>1</th>\n",
       "      <td>that s true corona virus swine flue bird flu ...</td>\n",
       "      <td>neu</td>\n",
       "    </tr>\n",
       "    <tr>\n",
       "      <th>2</th>\n",
       "      <td>tldr not sars possibly new coronavirus difficu...</td>\n",
       "      <td>neg</td>\n",
       "    </tr>\n",
       "    <tr>\n",
       "      <th>3</th>\n",
       "      <td>disease outbreak news from the who middle east...</td>\n",
       "      <td>neu</td>\n",
       "    </tr>\n",
       "    <tr>\n",
       "      <th>4</th>\n",
       "      <td>china media wsj says sources tell them mystery...</td>\n",
       "      <td>neu</td>\n",
       "    </tr>\n",
       "  </tbody>\n",
       "</table>\n",
       "</div>"
      ],
      "text/plain": [
       "                                               tweet label\n",
       "0           coronavirus human coronavirus types cdc    neu\n",
       "1   that s true corona virus swine flue bird flu ...   neu\n",
       "2  tldr not sars possibly new coronavirus difficu...   neg\n",
       "3  disease outbreak news from the who middle east...   neu\n",
       "4  china media wsj says sources tell them mystery...   neu"
      ]
     },
     "execution_count": 26,
     "metadata": {},
     "output_type": "execute_result"
    }
   ],
   "source": [
    "data.head()"
   ]
  },
  {
   "cell_type": "code",
   "execution_count": 27,
   "id": "0487dd24",
   "metadata": {},
   "outputs": [],
   "source": [
    "# remove short words\n",
    "data['tweet'] = data['tweet'].apply(lambda x: ' '.join([w for w in x.split() if len(w) > 2]))"
   ]
  },
  {
   "cell_type": "code",
   "execution_count": 28,
   "id": "349184a9",
   "metadata": {},
   "outputs": [
    {
     "data": {
      "text/html": [
       "<div>\n",
       "<style scoped>\n",
       "    .dataframe tbody tr th:only-of-type {\n",
       "        vertical-align: middle;\n",
       "    }\n",
       "\n",
       "    .dataframe tbody tr th {\n",
       "        vertical-align: top;\n",
       "    }\n",
       "\n",
       "    .dataframe thead th {\n",
       "        text-align: right;\n",
       "    }\n",
       "</style>\n",
       "<table border=\"1\" class=\"dataframe\">\n",
       "  <thead>\n",
       "    <tr style=\"text-align: right;\">\n",
       "      <th></th>\n",
       "      <th>tweet</th>\n",
       "      <th>label</th>\n",
       "    </tr>\n",
       "  </thead>\n",
       "  <tbody>\n",
       "    <tr>\n",
       "      <th>0</th>\n",
       "      <td>coronavirus human coronavirus types cdc</td>\n",
       "      <td>neu</td>\n",
       "    </tr>\n",
       "    <tr>\n",
       "      <th>1</th>\n",
       "      <td>that true corona virus swine flue bird flu dec...</td>\n",
       "      <td>neu</td>\n",
       "    </tr>\n",
       "    <tr>\n",
       "      <th>2</th>\n",
       "      <td>tldr not sars possibly new coronavirus difficu...</td>\n",
       "      <td>neg</td>\n",
       "    </tr>\n",
       "    <tr>\n",
       "      <th>3</th>\n",
       "      <td>disease outbreak news from the who middle east...</td>\n",
       "      <td>neu</td>\n",
       "    </tr>\n",
       "    <tr>\n",
       "      <th>4</th>\n",
       "      <td>china media wsj says sources tell them mystery...</td>\n",
       "      <td>neu</td>\n",
       "    </tr>\n",
       "  </tbody>\n",
       "</table>\n",
       "</div>"
      ],
      "text/plain": [
       "                                               tweet label\n",
       "0            coronavirus human coronavirus types cdc   neu\n",
       "1  that true corona virus swine flue bird flu dec...   neu\n",
       "2  tldr not sars possibly new coronavirus difficu...   neg\n",
       "3  disease outbreak news from the who middle east...   neu\n",
       "4  china media wsj says sources tell them mystery...   neu"
      ]
     },
     "execution_count": 28,
     "metadata": {},
     "output_type": "execute_result"
    }
   ],
   "source": [
    "data.head()"
   ]
  },
  {
   "cell_type": "code",
   "execution_count": 29,
   "id": "c9ac29ae",
   "metadata": {},
   "outputs": [
    {
     "data": {
      "text/plain": [
       "'genome sequence the new coronavirus associated with pneumonia cluster wuhan china'"
      ]
     },
     "execution_count": 29,
     "metadata": {},
     "output_type": "execute_result"
    }
   ],
   "source": [
    "data[data['label']=='neu'].loc[17,'tweet']"
   ]
  },
  {
   "cell_type": "code",
   "execution_count": 30,
   "id": "b09f3e20",
   "metadata": {},
   "outputs": [],
   "source": [
    "# create new variable tokenized tweet \n",
    "tokenized_tweet = data['tweet'].apply(lambda x: x.split())"
   ]
  },
  {
   "cell_type": "code",
   "execution_count": 31,
   "id": "2891afac",
   "metadata": {},
   "outputs": [
    {
     "name": "stderr",
     "output_type": "stream",
     "text": [
      "[nltk_data] Downloading package wordnet to\n",
      "[nltk_data]     C:\\Users\\Fidha\\AppData\\Roaming\\nltk_data...\n",
      "[nltk_data]   Package wordnet is already up-to-date!\n",
      "[nltk_data] Downloading package omw-1.4 to\n",
      "[nltk_data]     C:\\Users\\Fidha\\AppData\\Roaming\\nltk_data...\n",
      "[nltk_data]   Package omw-1.4 is already up-to-date!\n"
     ]
    },
    {
     "data": {
      "text/plain": [
       "True"
      ]
     },
     "execution_count": 31,
     "metadata": {},
     "output_type": "execute_result"
    }
   ],
   "source": [
    "#Importing required resources\n",
    "import nltk\n",
    "nltk.download('wordnet')\n",
    "nltk.download('omw-1.4')"
   ]
  },
  {
   "cell_type": "code",
   "execution_count": 32,
   "id": "a1bfd585",
   "metadata": {},
   "outputs": [],
   "source": [
    "# import these modules\n",
    "from nltk.stem import WordNetLemmatizer\n",
    "  \n",
    "lemmatizer = WordNetLemmatizer()\n",
    "  \n",
    "# apply lemmatizer for tokenized_tweet\n",
    "tokenized_tweet = tokenized_tweet.apply(lambda x: [lemmatizer.lemmatize(i) for i in x])"
   ]
  },
  {
   "cell_type": "code",
   "execution_count": 33,
   "id": "8e532215",
   "metadata": {},
   "outputs": [],
   "source": [
    "# stemming\n",
    "\n",
    "#from nltk.stem.porter import *\n",
    "#stemmer = PorterStemmer()\n",
    "\n",
    "# apply stemmer for tokenized_tweet\n",
    "#tokenized_tweet = tokenized_tweet.apply(lambda x: [stemmer.stem(i) for i in x])"
   ]
  },
  {
   "cell_type": "code",
   "execution_count": 34,
   "id": "006e7df8",
   "metadata": {},
   "outputs": [
    {
     "data": {
      "text/plain": [
       "0             [coronavirus, human, coronavirus, type, cdc]\n",
       "1        [that, true, corona, virus, swine, flue, bird,...\n",
       "2        [tldr, not, sars, possibly, new, coronavirus, ...\n",
       "3        [disease, outbreak, news, from, the, who, midd...\n",
       "4        [china, medium, wsj, say, source, tell, them, ...\n",
       "                               ...                        \n",
       "29995    [cdc, test, confirms, westerdam, cruise, ship,...\n",
       "29996    [two, doctor, die, coronavirus, within, hour, ...\n",
       "29997    [beijing, the, lockdown, guo, jing, neighbourh...\n",
       "29998    [coronavirusoutbreak, balochistan, cpec, route...\n",
       "29999    [the, australian, dollar, ha, hit, fresh, deca...\n",
       "Name: tweet, Length: 30000, dtype: object"
      ]
     },
     "execution_count": 34,
     "metadata": {},
     "output_type": "execute_result"
    }
   ],
   "source": [
    "tokenized_tweet"
   ]
  },
  {
   "cell_type": "code",
   "execution_count": 35,
   "id": "4be8143d",
   "metadata": {},
   "outputs": [],
   "source": [
    "# join tokens into one sentence\n",
    "for i in range(len(tokenized_tweet)):\n",
    "    tokenized_tweet[i] = ' '.join(tokenized_tweet[i])\n",
    "# change df['Tweet'] to tokenized_tweet"
   ]
  },
  {
   "cell_type": "code",
   "execution_count": 36,
   "id": "5b42cf56",
   "metadata": {},
   "outputs": [],
   "source": [
    "data['Tweet']  = tokenized_tweet"
   ]
  },
  {
   "cell_type": "code",
   "execution_count": 37,
   "id": "6acaa1be",
   "metadata": {},
   "outputs": [],
   "source": [
    "data.drop('tweet',axis=1,inplace=True)"
   ]
  },
  {
   "cell_type": "code",
   "execution_count": 38,
   "id": "305fd329",
   "metadata": {},
   "outputs": [
    {
     "data": {
      "text/html": [
       "<div>\n",
       "<style scoped>\n",
       "    .dataframe tbody tr th:only-of-type {\n",
       "        vertical-align: middle;\n",
       "    }\n",
       "\n",
       "    .dataframe tbody tr th {\n",
       "        vertical-align: top;\n",
       "    }\n",
       "\n",
       "    .dataframe thead th {\n",
       "        text-align: right;\n",
       "    }\n",
       "</style>\n",
       "<table border=\"1\" class=\"dataframe\">\n",
       "  <thead>\n",
       "    <tr style=\"text-align: right;\">\n",
       "      <th></th>\n",
       "      <th>label</th>\n",
       "      <th>Tweet</th>\n",
       "    </tr>\n",
       "  </thead>\n",
       "  <tbody>\n",
       "    <tr>\n",
       "      <th>0</th>\n",
       "      <td>neu</td>\n",
       "      <td>coronavirus human coronavirus type cdc</td>\n",
       "    </tr>\n",
       "    <tr>\n",
       "      <th>1</th>\n",
       "      <td>neu</td>\n",
       "      <td>that true corona virus swine flue bird flu dec...</td>\n",
       "    </tr>\n",
       "    <tr>\n",
       "      <th>2</th>\n",
       "      <td>neg</td>\n",
       "      <td>tldr not sars possibly new coronavirus difficu...</td>\n",
       "    </tr>\n",
       "    <tr>\n",
       "      <th>3</th>\n",
       "      <td>neu</td>\n",
       "      <td>disease outbreak news from the who middle east...</td>\n",
       "    </tr>\n",
       "    <tr>\n",
       "      <th>4</th>\n",
       "      <td>neu</td>\n",
       "      <td>china medium wsj say source tell them mystery ...</td>\n",
       "    </tr>\n",
       "  </tbody>\n",
       "</table>\n",
       "</div>"
      ],
      "text/plain": [
       "  label                                              Tweet\n",
       "0   neu             coronavirus human coronavirus type cdc\n",
       "1   neu  that true corona virus swine flue bird flu dec...\n",
       "2   neg  tldr not sars possibly new coronavirus difficu...\n",
       "3   neu  disease outbreak news from the who middle east...\n",
       "4   neu  china medium wsj say source tell them mystery ..."
      ]
     },
     "execution_count": 38,
     "metadata": {},
     "output_type": "execute_result"
    }
   ],
   "source": [
    "data.head()"
   ]
  },
  {
   "cell_type": "code",
   "execution_count": 39,
   "id": "c0442ad7",
   "metadata": {},
   "outputs": [
    {
     "data": {
      "image/png": "[encoded data removed]",
      "text/plain": [
       "<Figure size 432x288 with 1 Axes>"
      ]
     },
     "metadata": {
      "needs_background": "light"
     },
     "output_type": "display_data"
    }
   ],
   "source": [
    "sns.countplot(x=\"label\", data=data)\n",
    "plt.show()"
   ]
  },
  {
   "cell_type": "code",
   "execution_count": 40,
   "id": "8996ffce",
   "metadata": {},
   "outputs": [],
   "source": [
    "X = data['Tweet']\n",
    "y = data['label']"
   ]
  },
  {
   "cell_type": "code",
   "execution_count": 41,
   "id": "2b9ff084",
   "metadata": {},
   "outputs": [],
   "source": [
    "# Splitting the dataset into training and test set\n",
    "from sklearn.model_selection import train_test_split\n",
    "X_train, X_test, y_train, y_test = train_test_split(X, y,test_size = 0.3, random_state = 0)"
   ]
  },
  {
   "cell_type": "code",
   "execution_count": 42,
   "id": "75b33023",
   "metadata": {},
   "outputs": [],
   "source": [
    "from sklearn.feature_extraction.text import TfidfVectorizer\n",
    "\n",
    "tfidf_vect = TfidfVectorizer(max_features = 5000)\n",
    "tfidf_vect.fit(data['Tweet'])\n",
    "X_train_tfidf = tfidf_vect.transform(X_train)\n",
    "X_test_tfidf = tfidf_vect.transform(X_test)"
   ]
  },
  {
   "cell_type": "code",
   "execution_count": 43,
   "id": "275909e1",
   "metadata": {},
   "outputs": [
    {
     "name": "stdout",
     "output_type": "stream",
     "text": [
      "  (0, 4458)\t0.15254756684997578\n",
      "  (0, 2442)\t0.7546121735513383\n",
      "  (0, 1692)\t0.4554074829048486\n",
      "  (0, 931)\t0.09013751255900064\n",
      "  (0, 83)\t0.43791433034353094\n",
      "  (1, 4911)\t0.1980191324455161\n",
      "  (1, 4547)\t0.41326740282605645\n",
      "  (1, 4544)\t0.32297162147904135\n",
      "  (1, 3404)\t0.3530702152613797\n",
      "  (1, 3139)\t0.30359245556876774\n",
      "  (1, 2852)\t0.26165809757608954\n",
      "  (1, 1766)\t0.34338063230624294\n",
      "  (1, 931)\t0.050309964033426836\n",
      "  (1, 705)\t0.11829844515957644\n",
      "  (1, 700)\t0.3072131428437948\n",
      "  (1, 674)\t0.3495945134031423\n",
      "  (1, 150)\t0.2221796130773604\n",
      "  (2, 4510)\t0.27342593022174905\n",
      "  (2, 4456)\t0.20860393106910083\n",
      "  (2, 3487)\t0.4187086827024766\n",
      "  (2, 2664)\t0.35751609101416015\n",
      "  (2, 2548)\t0.5364040806874096\n",
      "  (2, 1763)\t0.17735369676277984\n",
      "  (2, 1720)\t0.2437851874794707\n",
      "  (2, 1528)\t0.4161360343675392\n",
      "  :\t:\n",
      "  (20996, 2297)\t0.26012059175713426\n",
      "  (20996, 1533)\t0.34981430154583104\n",
      "  (20996, 918)\t0.165243657104631\n",
      "  (20996, 375)\t0.3389522141777374\n",
      "  (20996, 158)\t0.15249072342143608\n",
      "  (20997, 4873)\t0.3931445245472843\n",
      "  (20997, 4832)\t0.5341655115270073\n",
      "  (20997, 1119)\t0.7412373146119505\n",
      "  (20997, 931)\t0.10330456205049596\n",
      "  (20998, 4523)\t0.3463567499490725\n",
      "  (20998, 4300)\t0.3075915521869926\n",
      "  (20998, 4245)\t0.31307377427926497\n",
      "  (20998, 4152)\t0.2897668133029417\n",
      "  (20998, 3399)\t0.3141875556207442\n",
      "  (20998, 2121)\t0.3042362019683118\n",
      "  (20998, 1742)\t0.416724650380267\n",
      "  (20998, 1596)\t0.416724650380267\n",
      "  (20998, 931)\t0.05967989046766286\n",
      "  (20998, 80)\t0.2475689804162085\n",
      "  (20999, 4458)\t0.15348828681086868\n",
      "  (20999, 3283)\t0.31880049874654787\n",
      "  (20999, 3129)\t0.3929007476694823\n",
      "  (20999, 1838)\t0.5790228546823687\n",
      "  (20999, 931)\t0.09069336644143508\n",
      "  (20999, 811)\t0.6139575207867224\n"
     ]
    }
   ],
   "source": [
    "print(X_train_tfidf)"
   ]
  },
  {
   "cell_type": "code",
   "execution_count": 44,
   "id": "f13a9134",
   "metadata": {},
   "outputs": [
    {
     "name": "stdout",
     "output_type": "stream",
     "text": [
      "  (0, 4831)\t0.37061332307614175\n",
      "  (0, 4750)\t0.14181812510381755\n",
      "  (0, 4458)\t0.09110166422214645\n",
      "  (0, 3171)\t0.2564222806560311\n",
      "  (0, 2612)\t0.2184148848345195\n",
      "  (0, 1802)\t0.3153434495026351\n",
      "  (0, 1674)\t0.3096471603284962\n",
      "  (0, 1499)\t0.3777753966298944\n",
      "  (0, 1374)\t0.40626115702918625\n",
      "  (0, 1252)\t0.24871537531923515\n",
      "  (0, 978)\t0.2407689787290732\n",
      "  (0, 918)\t0.15095705838320325\n",
      "  (0, 712)\t0.18602249573423496\n",
      "  (0, 120)\t0.20117094349262749\n",
      "  (1, 4591)\t0.2994602415224618\n",
      "  (1, 4458)\t0.09200968959838861\n",
      "  (1, 4240)\t0.4330926897515855\n",
      "  (1, 3266)\t0.22496936125741834\n",
      "  (1, 3075)\t0.2167628783701846\n",
      "  (1, 2992)\t0.23112615306842052\n",
      "  (1, 2307)\t0.3019029655307928\n",
      "  (1, 2295)\t0.23049628319665888\n",
      "  (1, 1177)\t0.4465920561832552\n",
      "  (1, 931)\t0.054366809795667485\n",
      "  (1, 846)\t0.3599773754280977\n",
      "  :\t:\n",
      "  (8997, 931)\t0.05422533859786681\n",
      "  (8997, 350)\t0.43196571279987267\n",
      "  (8998, 4978)\t0.19769671945964268\n",
      "  (8998, 4205)\t0.39889854661926355\n",
      "  (8998, 4146)\t0.35755845449599977\n",
      "  (8998, 4129)\t0.32696381603446467\n",
      "  (8998, 2612)\t0.2350843175235876\n",
      "  (8998, 1344)\t0.3954483886550476\n",
      "  (8998, 931)\t0.0579386032249156\n",
      "  (8998, 619)\t0.32368346283678456\n",
      "  (8998, 479)\t0.36078586173246513\n",
      "  (8998, 363)\t0.3422049136459604\n",
      "  (8999, 4683)\t0.25319727721145513\n",
      "  (8999, 4458)\t0.10858853635069789\n",
      "  (8999, 3712)\t0.3119116181220747\n",
      "  (8999, 3370)\t0.3696186931927076\n",
      "  (8999, 3075)\t0.25582048803906543\n",
      "  (8999, 3018)\t0.20937169090202443\n",
      "  (8999, 2418)\t0.3729424756460633\n",
      "  (8999, 2297)\t0.2832442018619604\n",
      "  (8999, 1818)\t0.19207245852575563\n",
      "  (8999, 931)\t0.06416294118083525\n",
      "  (8999, 609)\t0.18601150826187238\n",
      "  (8999, 388)\t0.39954504832215587\n",
      "  (8999, 372)\t0.3554625134075842\n"
     ]
    }
   ],
   "source": [
    "print(X_test_tfidf)"
   ]
  },
  {
   "cell_type": "code",
   "execution_count": 45,
   "id": "ceb97297",
   "metadata": {},
   "outputs": [
    {
     "name": "stdout",
     "output_type": "stream",
     "text": [
      "{'coronavirus': 931, 'human': 2169, 'type': 4636, 'cdc': 636, 'that': 4456, 'true': 4607, 'corona': 918, 'virus': 4750, 'swine': 4381, 'bird': 409, 'flu': 1745, 'december': 1101, 'when': 4847, 'whole': 4859, 'busy': 543, 'not': 3069, 'sars': 3835, 'possibly': 3400, 'new': 3018, 'difficult': 1215, 'confirm': 853, 'because': 356, 'patient': 3266, 'identified': 2199, 'later': 2551, 'infection': 2297, 'disease': 1252, 'outbreak': 3178, 'news': 3026, 'from': 1818, 'the': 4458, 'who': 4857, 'middle': 2838, 'east': 1391, 'respiratory': 3732, 'syndrome': 4390, 'mers': 2819, 'cov': 985, 'united': 4666, 'arab': 218, 'china': 705, 'medium': 2804, 'wsj': 4938, 'say': 3843, 'source': 4151, 'tell': 4427, 'them': 4462, 'mystery': 2965, 'pneumonia': 3370, 'something': 4129, 'ha': 1990, 'been': 362, 'causing': 627, 'same': 3824, 'family': 1636, 'and': 158, 'virologist': 4746, 'weigh': 4826, 'novel': 3075, 'chinese': 712, 'authority': 291, 'have': 2031, 'made': 2705, 'preliminary': 3436, 'why': 4861, 'ccp': 633, 'keep': 2469, 'saying': 3844, 'unknown': 4670, 'cause': 625, 'obviously': 3101, 'related': 3676, 'let': 2595, 'report': 3711, 'mysterious': 2964, 'illness': 2216, 'may': 2784, 'identifies': 2200, 'strain': 4277, 'always': 141, 'feel': 1674, 'weird': 4830, 'hoping': 2137, 'for': 1763, 'another': 174, 'our': 3171, 'research': 3722, 'traced': 4554, 'cnet': 779, 'wuhan': 4943, 'caused': 626, 'bbc': 347, 'health': 2050, 'advisory': 68, 'about': 10, 'ask': 252, 'with': 4891, 'severe': 3953, 'scientist': 3864, 'unusual': 4679, 'scary': 3854, 'scale': 3846, 'make': 2723, 'it': 2396, 'debut': 1098, 'score': 3867, 'out': 3173, 'mask': 2771, 'genome': 1875, 'sequence': 3937, 'associated': 264, 'cluster': 776, 'crap': 999, 'quick': 3574, 'blast': 424, 'search': 3883, 'suggests': 4325, 'look': 2667, 'like': 2612, 'bat': 339, 'lab': 2524, 'finding': 1709, 'death': 1094, 'cbc': 631, 'first': 1720, 'jan': 2417, 'all': 120, 'interim': 2344, 'guidance': 1983, 'technical': 4420, 'document': 1292, 'will': 4873, 'updated': 4684, 'needed': 3003, 'there': 4469, 'call': 555, 'transparency': 4574, 'data': 1074, 'sharing': 3972, 'concerning': 842, 'wuhanpneumonia': 4952, 'release': 3681, 'genetic': 1871, 'now': 3078, 'deadly': 1088, 'baby': 308, 'born': 456, 'pic': 3319, 'isn': 2384, 'currently': 1047, 'spreading': 4203, 'wpro': 4928, 'ncov': 2992, 'allow': 125, 'country': 978, 'develop': 1186, 'thailand': 4452, 'confirms': 857, 'traveler': 4581, 'hospitalized': 2146, 'form': 1778, 'according': 27, 'official': 3113, 'good': 1925, 'hasn': 2027, 'spread': 4201, 'seafood': 3880, 'market': 2765, 'major': 2720, 'transport': 4576, 'hub': 2164, 'closed': 763, 'brace': 473, 'yourself': 4983, 'america': 147, 'this': 4479, 'nasty': 2981, 'amp': 155, 'killer': 2487, 'japan': 2419, 'second': 3890, 'reported': 3712, 'likely': 2615, 'more': 2920, 'case': 609, 'fear': 1659, 'caught': 624, 'dy': 1377, 'confirmed': 856, 'three': 4492, 'airport': 105, 'screen': 3874, 'passenger': 3256, 'issue': 2393, 'warning': 4791, 'after': 80, 'wuhansars': 4953, 'viral': 4744, 'symptom': 4389, 'entry': 1472, 'screening': 3876, 'airline': 102, 'amid': 150, 'lax': 2563, 'other': 3168, 'raising': 3592, 'question': 3571, 'infected': 2295, 'found': 1786, 'city': 734, 'since': 4046, 'wtf': 4939, 'sound': 4146, 'than': 4453, 'many': 2752, 'initially': 2314, 'thought': 4483, 'through': 4494, 'contact': 879, 'where': 4848, 'world': 4911, 'stand': 4223, 'emerging': 1439, 'some': 4125, 'estimate': 1505, 'put': 3553, 'number': 3086, 'people': 3283, 'closely': 764, 'check': 688, 'least': 2579, 'suspected': 4366, 'shenzhen': 3980, 'shanghai': 3967, 'hundred': 2177, 'also': 138, 'export': 1592, 'grossly': 1966, 'study': 4302, 'cnn': 780, 'already': 136, 'any': 185, 'idea': 2198, 'what': 4844, 'cost': 964, 'newly': 3023, 'developed': 1187, 'test': 4445, 'alert': 112, 'korea': 2515, 'seems': 3907, 'pretty': 3456, 'bad': 313, 'are': 222, 'worried': 4916, 'could': 973, 'mutate': 2957, 'into': 2351, 'even': 1524, 'potent': 3407, 'modelovirus': 2896, 'surge': 4347, 'jump': 2453, 'again': 82, 'leap': 2575, 'latest': 2552, 'blog': 431, 'which': 4851, 'doesn': 1299, 'include': 2259, 'factbox': 1615, 'post': 3401, 'know': 2506, 'published': 3537, 'trending': 4594, 'tourist': 4546, 'coming': 809, 'nepal': 3011, 'taking': 4400, 'epidemic': 1479, 'very': 4729, 'beijing': 372, 'break': 479, 'silence': 4034, 'but': 544, 'only': 3132, 'deny': 1151, 'rumour': 3800, 'transmission': 4571, 'imminent': 2227, 'head': 2041, 'government': 1941, 'expert': 1580, 'team': 4417, 'state': 4237, 'york': 4977, 'time': 4510, 'zero': 4988, 'hedge': 2063, 'detected': 1180, 'well': 4832, 'said': 3817, 'zhong': 4993, 'infectious': 2298, 'globalhealth': 1904, 'had': 1993, 'last': 2547, 'year': 4967, 'drinking': 1344, 'bottle': 462, 'south': 4152, 'you': 4978, 'think': 4476, 'reach': 3613, 'stance': 4222, 'your': 4981, 'hearing': 2055, 'might': 2842, 'next': 3034, 'plague': 3338, 'still': 4262, 'animal': 166, 'barrier': 332, 'pand': 3225, 'transmitted': 4573, 'national': 2983, 'hold': 2114, 'emergency': 1437, 'meeting': 2806, 'asia': 249, 'global': 1902, 'hysteria': 2188, 'should': 4004, 'their': 4461, 'joke': 2444, 'old': 3120, 'mean': 2791, 'friday': 1811, 'night': 3043, 'wrap': 4929, 'tonight': 4528, 'touch': 4540, 'daily': 1061, 'watch': 4801, 'dog': 1301, 'meat': 2797, 'trade': 4558, 'definitely': 1126, 'covering': 990, 'being': 373, 'severity': 3955, 'over': 3191, 'extends': 1600, 'across': 32, 'planet': 3345, 'person': 3297, 'can': 568, 'between': 388, 'known': 2509, 'contagious': 881, 'freaking': 1801, 'really': 3629, 'dangerous': 1068, 'influenza': 2303, 'kill': 2485, 'anyways': 191, 'border': 454, 'cant': 579, 'enter': 1464, 'making': 2726, 'sick': 4022, 'abc': 4, 'how': 2159, 'treatment': 4591, 'prevent': 3457, 'pregnancy': 3433, 'getting': 1885, 'scared': 3850, 'medic': 2799, 'hazmat': 2038, 'suit': 4327, 'air': 98, 'plane': 3344, 'medical': 2800, 'worker': 4907, 'doe': 1298, 'far': 1642, 'low': 2685, 'mortality': 2925, 'rate': 3603, 'science': 3862, 'aaa': 0, 'struck': 4295, 'most': 2928, 'ahead': 93, 'period': 3291, 'group': 1969, 'ffs': 1686, 'rather': 3604, 'going': 1918, 'change': 670, 'fee': 1672, 'want': 4781, 'leave': 2580, 'earlier': 1381, 'due': 1363, 'wa': 4770, 'here': 2080, 'need': 3002, 'video': 4736, 'explained': 1582, 'ray': 3609, 'won': 4899, 'ton': 4527, 'soup': 4149, 'banned': 327, 'read': 3619, 'several': 3952, 'article': 242, 'don': 1309, 'exactly': 1541, 'breaking': 482, 'man': 2735, 'tested': 4446, 'returning': 3752, 'cousin': 984, 'began': 366, 'music': 2954, 'tech': 4419, 'boston': 459, 'doctor': 1291, 'warns': 4792, 'everyone': 1532, 'organization': 3159, 'rise': 3772, 'expected': 1571, 'worse': 4920, 'xenophobia': 4957, 'rampant': 3596, 'every': 1529, 'just': 2458, 'slice': 4074, 'lime': 2618, 'citizen': 733, 'advised': 64, 'wear': 4813, 'particularly': 3250, 'before': 364, 'killed': 2486, 'third': 4478, 'fourth': 1789, 'prepares': 3443, 'meet': 2805, 'monkey': 2912, 'take': 4398, 'life': 2608, 'asks': 255, 'mount': 2934, 'claim': 737, 'nation': 2982, 'start': 4231, 'concern': 840, 'prompt': 3501, 'sfo': 3957, 'top': 4532, 'twitter': 4634, 'wild': 4870, 'origin': 3161, 'nah': 2968, 'taste': 4410, 'better': 387, 'forex': 1775, 'today': 4518, 'optimistic': 3150, 'trump': 4610, 'davos': 1078, 'child': 701, 'positive': 3397, 'cebu': 639, 'javier': 2421, 'hern': 2081, 'ndez': 2996, 'austin': 285, 'via': 4731, 'nyt': 3093, 'australia': 286, 'flight': 1736, 'resident': 3725, 'leaving': 2581, 'yikes': 4975, 'cny': 781, 'doh': 1302, 'admitted': 56, 'hospital': 2145, 'continues': 893, 'dead': 1084, 'update': 4683, 'posted': 3402, 'weekend': 4823, 'they': 4472, 'trip': 4602, 'real': 3623, 'carry': 604, 'give': 1896, 'scientific': 3863, 'nature': 2988, 'cure': 1041, 'infect': 2294, 'tuesday': 4620, 'warned': 4790, 'cover': 987, 'anyone': 188, 'face': 1606, 'none': 3059, 'james': 2415, 'explain': 1581, 'whether': 4849, 'january': 2418, 'pathogen': 3265, 'fami': 1635, 'high': 2088, 'risk': 3775, 'including': 2261, 'capital': 585, 'sixth': 4061, 'victim': 4733, 'holiday': 2118, 'travel': 4579, 'heightens': 2065, 'almost': 130, 'occupied': 3102, 'herald': 2077, 'sun': 4330, 'reached': 3614, 'mostly': 2929, 'college': 799, 'coverup': 991, 'kissed': 2496, 'hahaha': 1995, 'unless': 4671, 'public': 3534, 'help': 2070, 'fancy': 1639, 'talking': 4402, 'cat': 615, 'dont': 1318, 'one': 3129, 'tho': 4480, 'then': 4465, 'ive': 2405, 'landed': 2538, 'soil': 4115, 'quickly': 3576, 'marketwatch': 2768, 'announces': 170, 'way': 4806, 'fast': 1646, 'felt': 1678, 'everything': 1533, 'meaning': 2792, 'hell': 2068, 'pack': 3214, 'drink': 1343, 'thing': 4475, 'washington': 4797, 'catch': 619, 'discovered': 1242, 'get': 1884, 'folk': 1750, 'seeing': 3902, 'knowing': 2507, 'never': 3017, 'friend': 1812, 'returned': 3751, 'believe': 375, 'declare': 1106, 'immediately': 2224, 'sorry': 4140, 'kinda': 2491, 'dow': 1327, 'fall': 1628, 'point': 3374, 'big': 395, 'decline': 1110, 'boeing': 444, 'republic': 3716, 'patented': 3263, 'arriving': 240, 'chicago': 698, 'screened': 3875, 'american': 148, 'bro': 505, 'threatening': 4490, 'further': 1840, 'bring': 497, 'netflix': 3014, 'farm': 1643, 'hang': 2010, 'goat': 1914, 'while': 4852, 'else': 1430, 'bout': 467, 'situation': 4059, 'summary': 4328, 'usa': 4693, 'possible': 3399, 'confirmation': 854, 'yet': 4973, 'reportedly': 3713, 'shut': 4015, 'foreign': 1771, 'arrived': 238, 'seattle': 3888, 'int': 2334, 'chance': 668, 'buy': 546, 'stock': 4264, 'jim': 2433, 'cramer': 998, 'expand': 1564, 'welcome': 4831, 'begun': 369, 'please': 3358, 'practice': 3416, 'personal': 3298, 'social': 4109, 'hygiene': 2185, 'model': 2891, 'iran': 2372, 'doomsday': 1320, 'looming': 2671, 'guy': 1988, 'california': 554, 'sickened': 4023, 'six': 4060, 'die': 1210, 'prime': 3467, 'minister': 2862, 'scott': 3869, 'morrison': 2924, 'evolving': 1539, 'fuck': 1822, 'clinton': 758, 'mom': 2901, 'ago': 89, 'told': 4523, 'diagnosed': 1196, 'week': 4822, 'avoid': 297, 'multiple': 2950, 'australian': 287, 'mad': 2704, 'money': 2906, 'uncertainty': 4649, 'ceo': 655, 'wife': 4866, 'asked': 253, 'trying': 4615, 'sickness': 4024, 'boy': 471, 'contract': 896, 'semi': 3919, 'staff': 4216, 'temperature': 4429, 'begin': 367, 'jamaica': 2414, 'treated': 4589, 'press': 3452, 'become': 357, 'million': 2852, 'remember': 3694, 'light': 2610, 'recent': 3637, 'note': 3070, 'bitch': 415, 'stay': 4245, 'away': 303, 'heard': 2054, 'got': 1933, 'racist': 3584, 'scene': 3856, 'learning': 2578, 'driving': 1349, 'uber': 4638, 'come': 807, 'arrives': 239, 'russia': 3807, 'india': 2275, 'others': 3169, 'boost': 453, 'live': 2639, 'nine': 3048, 'horror': 2143, 'globe': 1908, 'dying': 1378, 'story': 4275, 'show': 4009, 'connected': 863, 'international': 2346, 'antidote': 180, 'apparently': 202, 'por': 3390, 'del': 1129, 'sir': 4054, 'came': 560, 'assume': 266, 'impact': 2232, 'montreal': 2914, 'following': 1754, 'snohomish': 4103, 'county': 979, 'confused': 859, 'talk': 4401, 'company': 825, 'macau': 2702, 'hong': 2129, 'kong': 2513, 'economic': 1401, 'name': 2974, 'these': 4471, 'hangover': 2011, 'word': 4904, 'drunk': 1358, 'off': 3107, 'party': 3252, 'nailed': 2971, 'shame': 3964, 'province': 3528, 'care': 591, 'vigilant': 4739, 'special': 4167, 'region': 3667, 'coordination': 908, 'center': 650, 'move': 2939, 'quarantine': 3563, 'traveling': 4582, 'must': 2956, 'fail': 1620, 'asshole': 261, 'table': 4393, 'information': 2307, 'map': 2753, 'etc': 1508, 'examined': 1543, 'wont': 4902, 'russian': 3808, 'iranian': 2373, 'north': 3065, 'korean': 2516, 'english': 1459, 'raymond': 3610, 'item': 2401, 'broadcast': 506, 'lady': 2532, 'toll': 4524, 'spectator': 4172, 'index': 2274, 'cathay': 621, 'cabin': 552, 'crew': 1012, 'mainland': 2715, 'difference': 1213, 'heading': 2044, 'ground': 1967, 'existence': 1560, 'prepare': 3440, 'during': 1371, 'lunar': 2693, 'running': 3802, 'page': 3218, 'spy': 4208, 'double': 1324, 'mutation': 2960, 'reading': 3621, 'mind': 2855, 'corporation': 958, 'worry': 4918, 'created': 1003, 'vaccine': 4707, 'patent': 3262, 'lucky': 2692, 'happens': 2015, 'long': 2664, 'end': 1448, 'healthcare': 2051, 'economist': 1403, 'land': 2537, 'whatever': 4845, 'seem': 3905, 'grave': 1954, 'traveled': 4580, 'superspreader': 4335, 'having': 2033, 'brain': 475, 'surgery': 4348, 'until': 4677, 'loom': 2670, 'hope': 2135, 'contracted': 897, 'killing': 2488, 'lead': 2567, 'serious': 3943, 'correction': 961, 'pandemic': 3227, 'hit': 2103, 'increase': 2264, 'around': 232, 'hate': 2029, 'jinping': 2434, 'month': 2913, 'gotten': 1935, 'round': 3792, 'substance': 4311, 'close': 762, 'fish': 1722, 'climb': 754, 'key': 2477, 'grow': 1970, 'destination': 1172, 'checking': 690, 'goodbye': 1926, 'actually': 41, 'gonna': 1924, 'image': 2218, 'wwiii': 4956, 'climate': 752, 'changed': 671, 'monitor': 2909, 'precaution': 3426, 'npr': 3081, 'trust': 4611, 'totally': 4538, 'under': 4652, 'control': 899, 'commerce': 813, 'player': 3354, 'ease': 1387, 'price': 3465, 'disinfectant': 1257, 'linked': 2627, 'cancel': 571, 'blow': 435, 'yesterday': 4972, 'likelihood': 2614, 'finland': 1714, 'monitoring': 2911, 'heathrow': 2060, 'create': 1002, 'separate': 3935, 'arrival': 236, 'area': 223, 'precautionary': 3427, 'measure': 2796, 'great': 1955, 'shape': 3969, 'plan': 3343, 'egypt': 1418, 'highly': 2092, 'stop': 4270, 'entering': 1466, 'olympic': 3122, 'qualifier': 3561, 'review': 3761, 'paris': 3243, 'back': 309, 'she': 3976, 'cooking': 905, 'secretary': 3893, 'however': 2160, 'sell': 3914, 'protect': 3511, 'pose': 3395, 'leadership': 2569, 'reuters': 3755, 'avoiding': 298, 'object': 3096, 'important': 2245, 'ever': 1528, 'ramp': 3594, 'day': 1081, 'couple': 980, 'impeachment': 2237, 'jeff': 2425, 'wednesday': 4820, 'briefing': 493, 'contain': 882, 'deadass': 1085, 'abt': 15, 'scaring': 3853, 'wash': 4795, 'hand': 2006, 'kid': 2483, 'longer': 2665, 'sparking': 4163, 'dear': 1093, 'given': 1897, 'lee': 2585, 'canada': 569, 'threat': 4487, 'turkey': 4624, 'particular': 3249, 'room': 3787, 'dax': 1080, 'slows': 4082, 'struggling': 4298, 'bernie': 383, 'harry': 2023, 'return': 3750, 'dealing': 1091, 'chill': 702, 'sharply': 3974, 'mid': 2836, 'tackle': 4394, 'impeachmenttrial': 2238, 'describe': 1163, 'delete': 1134, 'previous': 3462, 'tweet': 4630, 'thread': 4486, 'stating': 4240, 'were': 4836, 'picked': 3321, 'ghana': 1886, 'careful': 593, 'shit': 3989, 'would': 4925, 'kenya': 2472, 'step': 4253, 'surveillance': 4356, 'acting': 34, 'brings': 499, 'hear': 2053, 'effort': 1416, 'beginning': 368, 'depression': 1158, 'added': 45, 'hubei': 2165, 'total': 4537, 'overseas': 3199, 'force': 1765, 'bringing': 498, 'chin': 704, 'conducted': 847, 'atlanta': 273, 'employer': 1445, 'holy': 2120, 'thats': 4457, 'le': 2565, 'wait': 4771, 'anything': 189, 'watching': 4803, 'ourselves': 3172, 'puzzle': 3555, 'piece': 3325, 'together': 4520, 'smell': 4090, 'advise': 63, 'against': 83, 'chinavirus': 709, 'suspect': 4365, 'simply': 4041, 'proactive': 3477, 'panic': 3230, 'two': 4635, 'tip': 4514, 'technology': 4421, 'aint': 97, 'play': 3352, 'inc': 2256, 'smh': 4091, 'developing': 1189, 'regulator': 3673, 'combat': 804, 'henry': 2075, 'provincial': 3529, 'officer': 3112, 'join': 2440, 'clock': 760, 'weaker': 4808, 'share': 3970, 'link': 2626, 'morning': 2922, 'established': 1503, 'idk': 2204, 'youre': 4982, 'interested': 2342, 'informed': 2309, 'rapidly': 3600, 'food': 1756, 'poisoning': 3376, 'lot': 2680, 'order': 3152, 'spreader': 4202, 'too': 4529, 'maybe': 2785, 'system': 4391, 'five': 1725, 'affected': 73, 'afp': 75, 'probably': 3480, 'named': 2975, 'calling': 557, 'fire': 1717, 'gun': 1987, 'girl': 1894, 'choose': 719, 'fighter': 1693, 'eve': 1523, 'few': 1684, 'treat': 4588, 'conference': 848, 'alarm': 109, 'prepared': 3441, 'sparked': 4162, 'crisis': 1015, 'opening': 3141, 'aliexpress': 118, 'package': 3215, 'belt': 379, 'fresh': 1809, 'free': 1802, 'chilling': 703, 'reveals': 3759, 'bug': 522, 'turn': 4625, 'ghost': 1888, 'gold': 1919, 'yep': 4970, 'isolated': 2387, 'someone': 4128, 'proper': 3504, 'work': 4905, 'tomorrow': 4526, 'overwhelmed': 3205, 'earthquake': 1385, 'warn': 4789, 'mutating': 2959, 'see': 3901, 'contaminated': 887, 'thanks': 4455, 'much': 2947, 'rising': 3774, 'extraordinary': 1602, 'response': 3736, 'matter': 2782, 'black': 419, 'white': 4856, 'communist': 823, 'halted': 2001, 'cut': 1051, 'transportation': 4577, 'despite': 1171, 'professor': 3491, 'spanish': 4159, 'full': 1830, 'shuts': 4017, 'indian': 2276, 'student': 4300, 'anxious': 184, 'virulent': 4749, 'committee': 818, 'gaining': 1847, 'lake': 2535, 'nvax': 3090, 'potential': 3408, 'gap': 1854, 'shutting': 4019, 'down': 1328, 'train': 4566, 'critic': 1017, 'living': 2643, 'nightmare': 3044, 'station': 4241, 'bus': 537, 'okay': 3118, 'similar': 4038, 'clearly': 749, 'wrong': 4936, 'effect': 1412, 'did': 1207, 'demand': 1143, 'beer': 363, 'examiner': 1544, 'lock': 2656, 'halt': 2000, 'feared': 1660, 'widespread': 4865, 'officially': 3114, 'fatality': 1650, 'drastic': 1338, 'originated': 3165, 'scare': 3849, 'slowly': 4081, 'surely': 4345, 'limit': 2619, 'population': 3389, 'billion': 399, 'nice': 3038, 'scaremongering': 3851, 'restricting': 3744, 'started': 4232, 'wildlife': 4872, 'taken': 4399, 'underway': 4659, 'right': 3769, 'working': 4908, 'himself': 2096, 'became': 355, 'mexico': 2829, 'ill': 2213, 'visiting': 4755, 'newsgrit': 3029, 'quarantined': 3564, 'damn': 1064, 'movie': 2941, 'starting': 4233, 'decide': 1102, 'thursday': 4501, 'postpones': 3406, 'decision': 1105, 'declaring': 1109, 'pork': 3391, 'pig': 3326, 'wth': 4940, 'stunt': 4305, 'go': 1911, 'creating': 1005, 'promote': 3500, 'task': 4409, 'info': 2304, 'originating': 3166, 'general': 1870, 'greenland': 1960, 'otherwise': 3170, 'suspends': 4370, 'spre': 4200, 'rapid': 3599, 'seek': 3903, 'suspension': 4371, 'heart': 2056, 'ready': 3622, 'meanwhile': 2794, 'cnbc': 778, 'escalate': 1495, 'safely': 3815, 'handle': 2007, 'phone': 3315, 'connection': 865, 'little': 2637, 'went': 4835, 'fly': 1746, 'berlin': 382, 'german': 1882, 'common': 820, 'term': 4436, 'seven': 3950, 'stronger': 4293, 'action': 35, 'downplaying': 1331, 'reporting': 3715, 'huh': 2168, 'inf': 2290, 'pakistan': 3222, 'ali': 115, 'walk': 4775, 'box': 470, 'mouth': 2938, 'stick': 4260, 'transit': 4569, 'copy': 913, 'zerohedge': 4989, 'bar': 329, 'gotta': 1934, 'ingat': 2310, 'daw': 1079, 'ngl': 3035, 'suspend': 4367, 'contained': 883, 'detect': 1179, 'moscow': 2927, 'worrisome': 4917, 'pollution': 3383, 'taiwan': 4397, 'diseas': 1251, 'sealed': 3882, 'isolates': 2388, 'entered': 1465, 'each': 1380, 'private': 3474, 'message': 2822, 'use': 4695, 'robot': 3781, 'certain': 657, 'place': 3336, 'itself': 2402, 'ppl': 3415, 'pick': 3320, 'carefully': 594, 'fearmongering': 1663, 'called': 556, 'yall': 4963, 'clean': 744, 'street': 4284, 'interview': 2349, 'guangzhou': 1977, 'southern': 4155, 'lol': 2661, 'brexit': 489, 'open': 3139, 'wet': 4842, 'photo': 3316, 'shop': 3996, 'hot': 2149, 'spring': 4205, 'add': 44, 'tourism': 4545, 'tour': 4544, 'budget': 520, 'doubling': 1325, 'wouldn': 4926, 'surprise': 4353, 'current': 1046, 'shot': 4003, 'best': 385, 'guess': 1981, 'send': 3923, 'location': 2655, 'imposes': 2251, 'terrified': 4438, 'truth': 4612, 'podcast': 3373, 'episode': 1483, 'wanna': 4780, 'house': 2156, 'shutdown': 4016, 'try': 4613, 'follow': 1751, 'happened': 2013, 'pop': 3386, 'song': 4134, 'gave': 1861, 'snake': 4097, 'legit': 2591, 'headache': 2042, 'past': 3258, 'happy': 2016, 'using': 4700, 'issued': 2394, 'november': 3077, 'event': 1526, 'aid': 94, 'horrific': 2142, 'disturbing': 1279, 'footage': 1759, 'emerges': 1438, 'visual': 4757, 'guide': 1984, 'sure': 4344, 'purposely': 3549, 'able': 8, 'crowded': 1024, 'front': 1819, 'line': 2622, 'recorded': 3646, 'find': 1708, 'woke': 4897, 'kag': 2462, 'election': 1424, 'completely': 834, 'asian': 250, 'department': 1152, 'investigates': 2360, 'consumption': 877, 'controlled': 900, 'surprised': 4354, 'eating': 1397, 'filed': 1697, 'usual': 4701, 'adam': 43, 'ser': 3940, 'interesting': 2343, 'development': 1190, 'showing': 4011, 'lmao': 2646, 'understand': 4657, 'antibiotic': 179, 'leading': 2570, 'original': 3162, 'pass': 3254, 'washyourhands': 4798, 'waiting': 4772, 'queue': 3573, 'outside': 3187, 'airborne': 99, 'yung': 4986, 'putting': 3554, 'lockdown': 2657, 'considered': 869, 'epicenter': 1477, 'outbrea': 3177, 'wearing': 4814, 'purpose': 3548, 'dust': 1372, 'flee': 1733, 'locked': 2658, 'gross': 1965, 'blame': 420, 'restaurant': 3741, 'warming': 4788, 'activated': 36, 'beg': 365, 'inform': 2306, 'follower': 1753, 'researcher': 3723, 'tipping': 4515, 'wuhanchina': 4945, 'beyond': 390, 'steel': 4251, 'car': 588, 'noodle': 3061, 'traveller': 4584, 'nigerian': 3041, 'tribune': 4596, 'drag': 1335, 'anxiety': 183, 'saw': 3842, 'app': 200, 'blamed': 421, 'emerge': 1435, 'star': 4229, 'carrying': 605, 'red': 3653, 'side': 4025, 'grip': 1963, 'investor': 2365, 'observation': 3098, 'custom': 1049, 'mexican': 2828, 'inside': 2322, 'strategy': 4282, 'seen': 3908, 'swan': 4375, 'london': 2663, 'reveal': 3756, 'non': 3058, 'specific': 4170, 'clear': 746, 'peter': 3304, 'oooo': 3136, 'offer': 3109, 'kit': 2497, 'blown': 438, 'community': 824, 'owned': 3208, 'application': 211, 'sta': 4213, 'lagos': 2533, 'govt': 1943, 'timeline': 4511, 'coronaviru': 930, 'irish': 2376, 'town': 4551, 'her': 2076, 'count': 975, 'statement': 4239, 'released': 3682, 'fight': 1692, 'khabarhub': 2480, 'growing': 1971, 'course': 982, 'pray': 3421, 'jeremy': 2427, 'selling': 3916, 'koala': 2510, 'eat': 1394, 'huanggang': 2162, 'indoor': 2284, 'venue': 4724, 'guangdong': 1976, 'seriously': 3944, 'local': 2652, 'celebrating': 641, 'sold': 4116, 'yes': 4971, 'terrible': 4437, 'brazil': 478, 'expanded': 1565, 'restriction': 3745, 'affect': 72, 'becomes': 358, 'remind': 3695, 'coronavirusoutbreak': 942, 'coronovirus': 955, 'as': 246, 'caution': 628, 'cholera': 717, 'bubonic': 518, 'prep': 3438, 'codx': 789, 'diagnostics': 1199, 'design': 1168, 'platform': 3351, 'didn': 1208, 'pre': 3425, 'existing': 1561, 'condition': 846, 'such': 4315, 'beware': 389, 'washing': 4796, 'cannot': 578, 'anger': 162, 'doing': 1303, 'nigeria': 3040, 'color': 800, 'huawei': 2163, 'developer': 1188, 'grows': 1973, 'ban': 321, 'woman': 4898, 'hide': 2086, 'france': 1794, 'online': 3131, 'march': 2760, 'late': 2549, 'april': 217, 'uae': 4637, 'distract': 1274, 'duh': 1364, 'retreat': 3749, 'appetite': 209, 'threatens': 4491, 'growth': 1974, 'macao': 2701, 'philippine': 3312, 'appearance': 205, 'accident': 25, 'stuck': 4299, 'breakfast': 481, 'wuhancoronavirus': 4946, 'singapore': 4048, 'film': 1701, 'contagion': 880, 'channel': 673, 'japanese': 2420, 'customer': 1050, 'level': 2600, 'cancellation': 573, 'celebration': 642, 'used': 4696, 'decade': 1100, 'biggest': 397, 'load': 2649, 'nonsense': 3060, 'nh': 3036, 'plagueinc': 3340, 'accelerating': 21, 'nnvc': 3052, 'body': 443, 'texas': 4448, 'sent': 3931, 'dubai': 1360, 'implement': 2240, 'bitcoin': 416, 'plunge': 3365, 'profit': 3492, 'loss': 2678, 'limited': 2621, 'investigating': 2361, 'ministry': 2863, 'dive': 1280, 'fxstreet': 1844, 'within': 4894, 'vietnam': 4737, 'protection': 3514, 'gear': 1866, 'alongside': 133, 'oil': 3117, 'trader': 4559, 'posed': 3396, 'scotland': 3868, 'reporter': 3714, 'four': 1788, 'mentioned': 2818, 'filipino': 1698, 'guardian': 1979, 'build': 523, 'testing': 4447, 'february': 1667, 'unprecedented': 4675, 'worrying': 4919, 'wuhanvirus': 4954, 'epidemiology': 1482, 'healthy': 2052, 'cold': 794, 'save': 3840, 'failed': 1621, 'nurse': 3088, 'saudi': 3839, 'peop': 3281, 'short': 4000, 'btc': 514, 'northern': 3066, 'ireland': 2375, 'wake': 4773, 'threaten': 4488, 'economy': 1404, 'canadian': 570, 'future': 1842, 'poised': 3375, 'gain': 1846, 'session': 3947, 'game': 1850, 'freakin': 1800, 'easily': 1389, 'previously': 3463, 'smartnews': 4087, 'factory': 1617, 'scandal': 3848, 'qanon': 3556, 'decides': 1104, 'rumor': 3799, 'dna': 1285, 'god': 1915, 'bid': 393, 'disrupted': 1268, 'punishment': 3545, 'uighur': 4642, 'muslim': 2955, 'gov': 1937, 'laboratory': 2526, 'done': 1317, 'summer': 4329, 'fell': 1676, 'idiot': 2202, 'decided': 1103, 'kung': 2520, 'publichealth': 3535, 'reminds': 3697, 'drill': 1342, 'giant': 1889, 'forced': 1766, 'postpone': 3404, 'upcoming': 4682, 'safe': 3814, 'ca': 550, 'contamination': 888, 'signal': 4032, 'hongkong': 2130, 'dedicated': 1113, 'lightning': 2611, 'vancouver': 4713, 'toronto': 4535, 'tool': 4531, 'fan': 1638, 'vacation': 4704, 'prevention': 3459, 'centre': 653, 'located': 2654, 'mother': 2931, 'angry': 164, 'shake': 3961, 'parasite': 3240, 'cancelled': 574, 'stopped': 4271, 'shock': 3991, 'collapsing': 796, 'teacher': 4415, 'terror': 4441, 'edge': 1405, 'coast': 784, 'output': 3185, 'birthday': 413, 'delayed': 1131, 'plastic': 3350, 'tube': 4619, 'stuff': 4304, 'bit': 414, 'funny': 1838, 'vaccination': 4706, 'counter': 976, 'cough': 969, 'simulation': 4044, 'spell': 4175, 'sign': 4031, 'seal': 3881, 'written': 4935, 'opinion': 3146, 'drip': 1345, 'racism': 3583, 'evidence': 1535, 'admit': 54, 'somewhat': 4130, 'exercise': 1556, 'increased': 2265, 'widens': 4864, 'simple': 4040, 'conspiracy': 871, 'happening': 2014, 'arabia': 219, 'hiv': 2105, 'run': 3801, 'monitored': 2910, 'fed': 1670, 'alibaba': 116, 'coffee': 790, 'prefer': 3432, 'both': 460, 'provide': 3524, 'colleague': 797, 'fro': 1816, 'mail': 2713, 'scottish': 3870, 'indonesia': 2282, 'forget': 1776, 'housing': 2157, 'droplet': 1353, 'coughing': 971, 'que': 3567, 'concert': 843, 'thank': 4454, 'ima': 2217, 'soon': 4137, 'died': 1211, 'forever': 1774, 'wish': 4889, 'evil': 1536, 'suddenly': 4318, 'disappear': 1233, 'ebola': 1399, 'cont': 878, 'fifth': 1690, 'rushed': 3806, 'his': 2101, 'record': 3645, 'inovio': 2318, 'launch': 2557, 'africa': 77, 'dem': 1142, 'dey': 1193, 'business': 541, 'spotlight': 4194, 'helped': 2071, 'early': 1382, 'owner': 3209, 'bill': 398, 'melinda': 2809, 'gate': 1858, 'french': 1807, 'didnt': 1209, 'fox': 1790, 'bruh': 512, 'documentary': 1293, 'pet': 3303, 'showed': 4010, 'coul': 972, 'dan': 1065, 'although': 140, 'scenario': 3855, 'locking': 2659, 'italy': 2399, 'italian': 2398, 'coronaviruschina': 933, 'wall': 4777, 'wisconsin': 4887, 'cina': 727, 'con': 837, 'aren': 224, 'spraying': 4199, 'investigated': 2359, 'mild': 2847, 'large': 2542, 'playing': 3355, 'compare': 826, 'curious': 1044, 'own': 3207, 'preparing': 3444, 'mon': 2903, 'date': 1075, 'est': 1501, 'literally': 2636, 'dude': 1362, 'jean': 2423, 'paul': 3267, 'locust': 2660, 'mapping': 2755, 'sharp': 3973, 'home': 2121, 'matt': 2781, 'john': 2438, 'malaysia': 2729, 'near': 2997, 'editorial': 1407, 'besides': 384, 'chinapneumonia': 707, 'chinacoronavirus': 706, 'sydney': 4385, 'bushfire': 539, 'smoke': 4094, 'au': 281, 'spook': 4191, 'recommendation': 3643, 'provider': 3526, 'fucking': 1826, 'anti': 178, 'journalist': 2449, 'graphic': 1952, 'entire': 1469, 'wiped': 4883, 'swear': 4376, 'sitting': 4058, 'google': 1928, 'justice': 2459, 'quarantining': 3565, 'illegal': 2214, 'university': 4669, 'culture': 1038, 'eats': 1398, 'midst': 2841, 'sending': 3924, 'rat': 3602, 'laugh': 2554, 'surrounding': 4355, 'hopefully': 2136, 'sanitizers': 3832, 'catching': 620, 'fool': 1757, 'originate': 3164, 'different': 1214, 'voice': 4760, 'mirror': 2868, 'insane': 2320, 'financial': 1707, 'spark': 4161, 'rest': 3739, 'worst': 4923, 'newspaper': 3031, 'random': 3598, 'comment': 811, 'suck': 4316, 'investigation': 2362, 'nsw': 3083, 'engineered': 1456, 'planned': 3346, 'houston': 2158, 'vid': 4735, 'often': 3115, 'raw': 3608, 'wonder': 4900, 'ate': 271, 'recently': 3638, 'stupid': 4306, 'dept': 1159, 'email': 1432, 'revealed': 3757, 'doc': 1287, 'journal': 2448, 'hotel': 2151, 'refuse': 3661, 'originally': 3163, 'claimed': 738, 'wasn': 4799, 'grounded': 1968, 'played': 3353, 'iphone': 2370, 'theory': 4467, 'paper': 3234, 'fascinating': 1644, 'insight': 2324, 'handling': 2008, 'ending': 1450, 'lyme': 2697, 'attempt': 276, 'stem': 4252, 'zombie': 4996, 'apocalypse': 197, 'supporter': 4339, 'frightening': 1815, 'foundation': 1787, 'funded': 1835, 'hat': 2028, 'alien': 117, 'nothing': 3072, 'turning': 4628, 'investigate': 2358, 'congress': 862, 'described': 1164, 'agency': 85, 'preparation': 3439, 'deal': 1089, 'longest': 2666, 'taal': 4392, 'eruption': 1494, 'series': 3941, 'present': 3449, 'slow': 4078, 'mass': 2773, 'marketing': 2766, 'manager': 2739, 'valley': 4710, 'those': 4481, 'detailed': 1177, 'breakdown': 480, 'dia': 1194, 'highest': 2090, 'took': 4530, 'wit': 4890, 'walking': 4776, 'tower': 4550, 'diario': 1202, 'root': 3789, 'season': 3885, 'trial': 4595, 'speaks': 4166, 'extra': 1601, 'nhk': 3037, 'notice': 3073, 'healt': 2049, 'traditional': 4561, 'medicine': 2803, 'eight': 1419, 'fact': 1614, 'campus': 567, 'safety': 3816, 'switch': 4383, 'modelo': 2894, 'los': 2674, 'tokyo': 4522, 'spur': 4206, 'military': 2850, 'personnel': 3301, 'sneeze': 4099, 'finished': 1713, 'largely': 2543, 'faster': 1647, 'yellow': 4968, 'metal': 2825, 'newsvideo': 3033, 'breakingnews': 483, 'youtube': 4984, 'switched': 4384, 'worldwide': 4915, 'risen': 3773, 'commission': 815, 'federal': 1671, 'court': 983, 'secretly': 3895, 'ordering': 3154, 'site': 4057, 'throughout': 4495, 'excuse': 1554, 'towards': 4549, 'building': 524, 'bed': 360, 'nseupdate': 3082, 'crazy': 1001, 'kerala': 2475, 'trapped': 4578, 'wuh': 4942, 'tracking': 4557, 'infects': 2300, 'received': 3636, 'carmaker': 598, 'luxury': 2695, 'brand': 476, 'jersey': 2429, 'exposure': 1596, 'cbs': 632, 'personality': 3299, 'race': 3581, 'firm': 1719, 'nasdaq': 2980, 'eye': 1605, 'earnings': 1383, 'gild': 1891, 'omg': 3125, 'tennessee': 4434, 'weak': 4807, 'immune': 2228, 'feeling': 1675, 'tht': 4499, 'estate': 1504, 'revealing': 3758, 'isolation': 2390, 'prey': 3464, 'thousand': 4484, 'evening': 1525, 'unconfirmed': 4651, 'reaching': 3615, 'pls': 3363, 'cautious': 629, 'regardless': 3665, 'calm': 558, 'expands': 1567, 'plus': 3367, 'crash': 1000, 'spr': 4196, 'discussion': 1250, 'men': 2814, 'anymore': 187, 'embassy': 1433, 'cheated': 687, 'chine': 711, 'brought': 510, 'dozen': 1334, 'mike': 2844, 'esp': 1498, 'southeast': 4154, 'club': 773, 'lost': 2679, 'cell': 644, 'spike': 4182, 'nobody': 3053, 'blocking': 430, 'road': 3779, 'motor': 2933, 'vehicle': 4720, 'treating': 4590, 'proof': 3502, 'sing': 4047, 'humanity': 2170, 'increasing': 2266, 'value': 4711, 'burning': 536, 'half': 1999, 'supply': 4337, 'ended': 1449, 'flat': 1730, 'disneyland': 1264, 'park': 3244, 'preventing': 3458, 'possibility': 3398, 'product': 3487, 'unnecessary': 4673, 'delay': 1130, 'neo': 3010, 'hitting': 2104, 'shore': 3999, 'determine': 1182, 'readiness': 3620, 'leaf': 2571, 'lying': 2696, 'deserted': 1166, 'sneezed': 4100, 'love': 2681, 'wired': 4885, 'whose': 4860, 'tryin': 4614, 'imposed': 2250, 'suspicion': 4372, 'survived': 4360, 'visit': 4753, 'zealand': 4987, 'accelerate': 19, 'industry': 2288, 'escaped': 1497, 'website': 4818, 'bunch': 531, 'british': 503, 'resort': 3728, 'saturday': 3838, 'lethal': 2596, 'headquarters': 2046, 'tired': 4516, 'self': 3912, 'shared': 3971, 'small': 4084, 'chaos': 674, 'strike': 4291, 'zika': 4994, 'retweetnews': 3754, 'reduce': 3654, 'disney': 1263, 'announced': 168, 'temporary': 4431, 'closure': 767, 'oott': 3137, 'figure': 1695, 'higher': 2089, 'wuhancoronovirus': 4948, 'wuhanflu': 4949, 'overnight': 3197, 'list': 2631, 'suspended': 4368, 'retweet': 3753, 'moh': 2900, 'bloody': 433, 'mounting': 2936, 'central': 651, 'appear': 204, 'probable': 3479, 'governor': 1942, 'protein': 3517, 'compared': 827, 'attention': 280, 'instead': 2330, 'among': 152, 'kingdom': 2494, 'dose': 1322, 'masked': 2772, 'germ': 1881, 'guideline': 1985, 'adviser': 65, 'concerned': 841, 'lack': 2528, 'basic': 335, 'implication': 2242, 'raise': 3590, 'epicentre': 1478, 'suffer': 4319, 'denies': 1148, 'learn': 2576, 'unable': 4647, 'lower': 2686, 'speed': 4174, 'suffering': 4321, 'suspe': 4364, 'trigger': 4599, 'debate': 1095, 'magazine': 2708, 'ang': 159, 'especially': 1499, 'super': 4332, 'volcano': 4762, 'west': 4838, 'roll': 3784, 'favorite': 1655, 'ongoing': 3130, 'organisation': 3157, 'expects': 1573, 'chongqing': 718, 'mcdonalds': 2788, 'amidst': 151, 'petition': 3305, 'rename': 3702, 'coronaviruses': 935, 'stricter': 4290, 'targeted': 4406, 'curb': 1040, 'rebound': 3632, 'aussie': 284, 'bet': 386, 'yen': 4969, 'auspol': 283, 'everybody': 1530, 'fighting': 1694, 'him': 2095, 'yang': 4964, 'flew': 1735, 'packed': 3216, 'rally': 3593, 'predicted': 3429, 'ran': 3597, 'energy': 1452, 'bearish': 350, 'mood': 2915, 'winner': 4879, 'equipped': 1488, 'aware': 301, 'yeah': 4966, 'corps': 959, 'left': 2586, 'floor': 1741, 'lesson': 2594, 'learned': 2577, 'zone': 4997, 'battle': 343, 'jazeera': 2422, 'bio': 403, 'weapon': 4810, 'granted': 1950, 'thr': 4485, 'exclusive': 1553, 'rose': 3790, 'moment': 2902, 'program': 3493, 'stepped': 4255, 'soar': 4106, 'hey': 2083, 'available': 293, 'chart': 680, 'infecting': 2296, 'closing': 766, 'weekly': 4824, 'style': 4308, 'scholar': 3859, 'ontario': 3134, 'alerted': 113, 'solution': 4121, 'sensitive': 3930, 'below': 378, 'set': 3948, 'village': 4741, 'fine': 1710, 'till': 4508, 'complex': 835, 'easier': 1388, 'result': 3746, 'hour': 2155, 'quite': 3579, 'epic': 1476, 'glad': 1899, 'sec': 3889, 'midnight': 2840, 'keeping': 2470, 'steve': 4258, 'freed': 1803, 'commentary': 812, 'helping': 2073, 'equity': 1489, 'block': 427, 'touched': 4541, 'standard': 4224, 'seasonal': 3886, 'everywhere': 1534, 'coronoavirus': 953, 'unbelievable': 4648, 'rush': 3805, 'manufactured': 2749, 'destroy': 1173, 'negative': 3004, 'sky': 4067, 'remain': 3690, 'smallpox': 4085, 'illinois': 2215, 'hav': 2030, 'asking': 254, 'school': 3860, 'act': 33, 'hosted': 2148, 'simulated': 4043, 'outb': 3174, 'deploys': 1156, 'assist': 262, 'shift': 3981, 'approach': 212, 'meme': 2812, 'fun': 1832, 'soldier': 4117, 'telling': 4428, 'duty': 1376, 'regarding': 3664, 'detail': 1176, 'experiencing': 1577, 'responsible': 3738, 'coincidence': 791, 'israel': 2391, 'ugh': 4640, 'pace': 3212, 'built': 525, 'hire': 2100, 'camera': 562, 'address': 49, 'hard': 2017, 'hop': 2134, 'prince': 3468, 'penny': 3278, 'cepi': 656, 'coverage': 988, 'clinical': 757, 'behind': 371, 'looking': 2669, 'partial': 3247, 'mumbai': 2952, 'ward': 4785, 'drop': 1352, 'freaked': 1799, 'flying': 1747, 'estimation': 1507, 'epidemiological': 1480, 'prediction': 3430, 'headline': 2045, 'young': 4979, 'liked': 2613, 'visitor': 4756, 'incubation': 2269, 'parent': 3242, 'depth': 1160, 'respirator': 3731, 'port': 3393, 'service': 3945, 'gon': 1921, 'lie': 2606, 'thinking': 4477, 'celebrate': 640, 'phase': 3310, 'enough': 1462, 'resource': 3729, 'crown': 1025, 'dropping': 1355, 'detained': 1178, 'europe': 1513, 'somebody': 4126, 'plain': 3341, 'bye': 549, 'minnesota': 2864, 'above': 11, 'protecting': 3513, 'crossing': 1022, 'britain': 502, 'facemasks': 1610, 'beat': 352, 'pirbright': 3332, 'institute': 2331, 'sale': 3821, 'creation': 1006, 'falling': 1630, 'specie': 4169, 'jesus': 2430, 'enforce': 1453, 'greater': 1956, 'stan': 4221, 'nct': 2994, 'entertainment': 1468, 'mine': 2856, 'write': 4932, 'wanted': 4782, 'chlorine': 714, 'dioxide': 1220, 'bleach': 425, 'pure': 3547, 'dream': 1340, 'shoot': 3994, 'fatal': 1649, 'briton': 504, 'mention': 2817, 'shown': 4012, 'rail': 3588, 'rip': 3771, 'expecting': 1572, 'capable': 582, 'afraid': 76, 'metro': 2827, 'discus': 1247, 'emerged': 1436, 'fucked': 1823, 'manufacturer': 2750, 'coronavir': 928, 'lancet': 2536, 'wow': 4927, 'travelling': 4585, 'everyday': 1531, 'goverment': 1939, 'bts': 515, 'awesome': 304, 'kick': 2481, 'once': 3128, 'reason': 3631, 'boutta': 468, 'class': 743, 'bay': 346, 'buddy': 519, 'honestly': 2127, 'bull': 526, 'president': 3450, 'office': 3111, 'throw': 4496, 'isnt': 2385, 'circulating': 730, 'popping': 3387, 'travelled': 4583, 'basically': 336, 'faculty': 1618, 'imperial': 2239, 'haven': 2032, 'feed': 1673, 'msm': 2946, 'announce': 167, 'cured': 1043, 'discharged': 1239, 'discover': 1241, 'dish': 1255, 'version': 4727, 'concept': 839, 'support': 4338, 'pay': 3269, 'respect': 3730, 'huge': 2167, 'dat': 1073, 'allah': 121, 'confusing': 860, 'stated': 4238, 'field': 1689, 'germany': 1883, 'activity': 39, 'declared': 1107, 'ravaged': 3607, 'lord': 2673, 'wildfire': 4871, 'visited': 4754, 'receive': 3635, 'wan': 4779, 'maryland': 2770, 'preventive': 3460, 'advice': 62, 'traffic': 4562, 'relation': 3678, 'outlet': 3182, 'coronarovirus': 922, 'exceed': 1547, 'sister': 4055, 'believed': 376, 'latin': 2553, 'caribbean': 596, 'political': 3379, 'pain': 3220, 'dare': 1069, 'tag': 4396, 'liar': 2602, 'containing': 884, 'european': 1514, 'losing': 2677, 'sector': 3898, 'mortgage': 2926, 'nbc': 2991, 'stream': 4283, 'coping': 911, 'mobile': 2887, 'foo': 1755, 'predict': 3428, 'hello': 2069, 'hotline': 2152, 'analysis': 156, 'nigga': 3042, 'madison': 2706, 'director': 1228, 'foun': 1785, 'stress': 4286, 'cuz': 1054, 'alarming': 110, 'donald': 1310, 'surgical': 4349, 'gove': 1938, 'humor': 2174, 'stricken': 4288, 'underestimate': 4653, 'dom': 1305, 'mf': 2830, 'meant': 2793, 'african': 78, 'stressing': 4287, 'focus': 1748, 'absolutely': 14, 'indicates': 2279, 'alone': 131, 'predicts': 3431, 'ten': 4432, 'bless': 426, 'mil': 2845, 'wor': 4903, 'vitamin': 4759, 'frequently': 1808, 'senator': 3922, 'tom': 4525, 'cotton': 966, 'consider': 868, 'knew': 2502, 'bos': 457, 'feature': 1664, 'ain': 96, 'throwing': 4497, 'goodness': 1927, 'planning': 3347, 'pan': 3224, 'sunday': 4331, 'flown': 1744, 'chi': 697, 'husband': 2184, 'user': 4699, 'comparing': 828, 'tweeted': 4631, 'finally': 1705, 'exposed': 1594, 'art': 241, 'cctv': 635, 'network': 3016, 'either': 1421, 'analyst': 157, 'upon': 4686, 'finish': 1712, 'registered': 3670, 'nearly': 2998, 'deserve': 1167, 'chan': 667, 'meal': 2790, 'biotech': 406, 'opened': 3140, 'finna': 1715, 'foot': 1758, 'identify': 2201, 'verify': 4726, 'part': 3246, 'push': 3550, 'swift': 4379, 'solid': 4119, 'fill': 1699, 'deadliest': 1087, 'victoria': 4734, 'airplane': 103, 'vendor': 4722, 'brother': 509, 'process': 3484, 'carolina': 600, 'miss': 2874, 'wipe': 4882, 'myself': 2963, 'track': 4555, 'assessment': 259, 'nejm': 3009, 'perspective': 3302, 'melbourne': 2808, 'newpaper': 3024, 'fake': 1627, 'carrier': 603, 'nervous': 3013, 'circle': 729, 'diagnosis': 1197, 'kind': 2490, 'induced': 2286, 'tbh': 4413, 'selloff': 3917, 'green': 1959, 'beach': 348, 'horizon': 2139, 'explainer': 1583, 'extreme': 1603, 'immediate': 2223, 'reminder': 3696, 'hopkins': 2138, 'usually': 4702, 'construction': 873, 'fat': 1648, 'ignorant': 2207, 'simpson': 4042, 'mark': 2763, 'spelled': 4176, 'advance': 59, 'paranoid': 3239, 'imma': 2222, 'soap': 4105, 'karma': 2465, 'dumb': 1365, 'eradicated': 1490, 'tuned': 4623, 'impeach': 2235, 'prior': 3470, 'appeal': 203, 'import': 2243, 'prayer': 3422, 'army': 231, 'knowledge': 2508, 'selfish': 3913, 'bullshit': 529, 'fails': 1623, 'passed': 3255, 'henan': 2074, 'checked': 689, 'rattle': 3606, 'investment': 2364, 'strategist': 4281, 'crowd': 1023, 'fema': 1679, 'law': 2559, 'colorado': 801, 'without': 4895, 'glove': 1909, 'nak': 2973, 'gone': 1922, 'criticism': 1019, 'touching': 4542, 'bag': 315, 'rid': 3766, 'wuflu': 4941, 'accepted': 23, 'thus': 4502, 'strong': 4292, 'eliminate': 1427, 'stone': 4269, 'window': 4877, 'sour': 4150, 'boom': 452, 'urge': 4688, 'prisoner': 3473, 'slowing': 4080, 'explains': 1585, 'wiping': 4884, 'percentage': 3286, 'reduces': 3655, 'rich': 3764, 'cycle': 1057, 'particle': 3248, 'amazon': 143, 'plz': 3368, 'extremely': 1604, 'anyway': 190, 'politics': 3381, 'necessary': 3001, 'grew': 1962, 'crude': 1027, 'struggle': 4297, 'plunged': 3366, 'coro': 917, 'ugly': 4641, 'lied': 2607, 'active': 37, 'nationwide': 2985, 'leader': 2568, 'declares': 1108, 'earth': 1384, 'lad': 2531, 'proud': 3521, 'spoke': 4186, 'xinjiang': 4960, 'versus': 4728, 'loose': 2672, 'warfare': 4786, 'largest': 2544, 'christian': 722, 'misinformation': 2870, 'studio': 4301, 'citywide': 735, 'easy': 1393, 'affecting': 74, 'somehow': 4127, 'anywhere': 192, 'loved': 2682, 'zimbabwe': 4995, 'unprepared': 4676, 'provides': 3527, 'contracting': 898, 'battling': 344, 'toilet': 4521, 'ecdc': 1400, 'moot': 2917, 'malaysian': 2730, 'tracker': 4556, 'soleimani': 4118, 'flood': 1739, 'slump': 4083, 'nuclear': 3084, 'queensland': 3569, 'protected': 3512, 'disagree': 1232, 'proportion': 3509, 'suggest': 4322, 'biological': 404, 'liverpool': 2641, 'ish': 2381, 'express': 1597, 'urgent': 4690, 'certainly': 658, 'stigma': 4261, 'led': 2584, 'ccpchina': 634, 'whoever': 4858, 'universe': 4668, 'continued': 892, 'amazing': 142, 'useless': 4698, 'trend': 4593, 'lassa': 2546, 'fever': 1683, 'throat': 4493, 'sore': 4139, 'regard': 3663, 'individual': 2281, 'protest': 3518, 'minute': 2866, 'supposed': 4341, 'religion': 3688, 'survival': 4358, 'surface': 4346, 'terrorism': 4442, 'bullish': 528, 'hiding': 2087, 'multi': 2949, 'education': 1409, 'cross': 1021, 'finger': 1711, 'reference': 3658, 'clinic': 756, 'based': 334, 'disappeared': 1234, 'imagine': 2219, 'indicate': 2278, 'priority': 3471, 'wellness': 4833, 'facility': 1612, 'diagnose': 1195, 'specialist': 4168, 'evacuate': 1516, 'campaign': 565, 'dressed': 1341, 'fault': 1654, 'adding': 46, 'lovely': 2684, 'continue': 891, 'occur': 3103, 'guard': 1978, 'moving': 2942, 'nowhere': 3080, 'excited': 1552, 'sudden': 4317, 'normal': 3064, 'owns': 3210, 'chair': 661, 'durham': 1370, 'realtime': 3630, 'background': 310, 'pressure': 3453, 'angel': 160, 'org': 3156, 'bride': 491, 'admits': 55, 'giving': 1898, 'sad': 3813, 'shall': 3963, 'monday': 2904, 'artist': 245, 'schedule': 3857, 'considering': 870, 'status': 4244, 'containment': 885, 'tweeting': 4632, 'evacuation': 1520, 'diplomat': 1222, 'haha': 1994, 'stupidity': 4307, 'highlight': 2091, 'deadlier': 1086, 'awareness': 302, 'ignore': 2208, 'epidemiologist': 1481, 'regime': 3666, 'overview': 3203, 'biologist': 405, 'kayo': 2468, 'chemical': 693, 'odd': 3105, 'agent': 87, 'beast': 351, 'somewhere': 4131, 'timely': 4512, 'broken': 508, 'lowkey': 2688, 'answer': 175, 'renamed': 3703, 'deployed': 1155, 'faith': 1626, 'reality': 3625, 'fir': 1716, 'bali': 319, 'accused': 30, 'engineering': 1457, 'wondering': 4901, 'desperate': 1170, 'hotspot': 2154, 'headed': 2043, 'linking': 2628, 'virology': 4747, 'joking': 2445, 'dramatic': 1337, 'soft': 4112, 'member': 2811, 'objection': 3097, 'son': 4132, 'accurate': 29, 'kindly': 2492, 'googling': 1930, 'charter': 681, 'explaining': 1584, 'casualty': 614, 'mutated': 2958, 'havoc': 2034, 'language': 2540, 'do': 1286, 'incurable': 2270, 'dodge': 1296, 'agreement': 92, 'war': 4784, 'poor': 3385, 'though': 4482, 'remedy': 3693, 'age': 84, 'standing': 4225, 'experimental': 1579, 'coronaoutbreak': 919, 'coronarvirus': 924, 'theater': 4459, 'ordered': 3153, 'agreed': 91, 'digital': 1217, 'hidden': 2085, 'rep': 3706, 'terrifying': 4439, 'useful': 4697, 'inhumane': 2312, 'smoking': 4096, 'nebraska': 3000, 'clan': 740, 'radio': 3585, 'blowing': 437, 'exact': 1540, 'senate': 3921, 'bigger': 396, 'corner': 916, 'board': 441, 'wil': 4868, 'exist': 1558, 'queen': 3568, 'massive': 2775, 'alot': 134, 'dec': 1099, 'forum': 1783, 'speaking': 4165, 'recover': 3648, 'hmm': 2106, 'concentration': 838, 'camp': 564, 'thru': 4498, 'win': 4875, 'except': 1551, 'deleted': 1135, 'censored': 646, 'postponed': 3405, 'nih': 3045, 'managing': 2740, 'arizona': 227, 'engineer': 1455, 'inappropriate': 2255, 'icu': 2196, 'presumptive': 3454, 'listen': 2632, 'pod': 3372, 'variant': 4715, 'globally': 1907, 'store': 4273, 'expose': 1593, 'core': 915, 'flaw': 1731, 'strength': 4285, 'governance': 1940, 'shaking': 3962, 'pas': 3253, 'compiled': 831, 'ambulance': 146, 'chief': 700, 'choice': 716, 'cdnpoli': 637, 'recreate': 3652, 'managed': 2737, 'sneezing': 4101, 'tried': 4598, 'blood': 432, 'history': 2102, 'peopl': 3282, 'administration': 53, 'banning': 328, 'material': 2779, 'clout': 771, 'olympics': 3123, 'door': 1321, 'space': 4157, 'sat': 3837, 'interest': 2341, 'jama': 2413, 'fiweh': 1726, 'blue': 439, 'effective': 1414, 'reaction': 3617, 'react': 3616, 'swiftly': 4380, 'century': 654, 'posting': 3403, 'credible': 1008, 'laid': 2534, 'commercial': 814, 'dad': 1059, 'abroad': 12, 'recall': 3633, 'evacuates': 1518, 'accelerates': 20, 'beating': 353, 'holding': 2116, 'daughter': 1076, 'chat': 684, 'view': 4738, 'topic': 4534, 'detection': 1181, 'centralized': 652, 'responsibility': 3737, 'bank': 325, 'tim': 4509, 'cook': 904, 'apple': 210, 'donate': 1312, 'relief': 3686, 'problem': 3482, 'wuhanlockdown': 4950, 'bottom': 463, 'seeking': 3904, 'fate': 1651, 'happen': 2012, 'carbon': 589, 'footprint': 1762, 'tryna': 4616, 'leg': 2588, 'recovered': 3649, 'ltimo': 2690, 'moderna': 2898, 'potus': 3410, 'troop': 4603, 'asap': 247, 'smith': 4093, 'trudeau': 4606, 'liberal': 2603, 'san': 3827, 'francisco': 1796, 'hurt': 2182, 'novelcoronavirus': 3076, 'laughing': 2556, 'crush': 1031, 'wesleyan': 4837, 'consulate': 874, 'coughed': 970, 'maga': 2707, 'feb': 1666, 'opportunity': 3147, 'credit': 1009, 'southkorea': 4156, 'escape': 1496, 'fortune': 1782, 'immunity': 2229, 'buying': 548, 'propaganda': 3503, 'host': 2147, 'deep': 1115, 'agree': 90, 'honest': 2126, 'cute': 1052, 'honey': 2128, 'dashboard': 1072, 'vast': 4717, 'majority': 2722, 'plainly': 3342, 'appears': 208, 'donating': 1315, 'western': 4840, 'screw': 3877, 'informative': 2308, 'attending': 279, 'seoul': 3934, 'tha': 4450, 'mai': 2712, 'advises': 66, 'solve': 4122, 'climbing': 755, 'picture': 3324, 'internet': 2348, 'senior': 3926, 'healer': 2048, 'suggested': 4323, 'genuine': 1878, 'worth': 4924, 'strange': 4280, 'sha': 3958, 'praise': 3418, 'evacuated': 1517, 'expect': 1569, 'spit': 4185, 'relies': 3687, 'rhino': 3763, 'horn': 2140, 'apa': 193, 'breathe': 487, 'gen': 1867, 'pakistani': 3223, 'outcome': 3179, 'kuwait': 2522, 'query': 3570, 'ver': 4725, 'overheard': 3196, 'tighten': 4505, 'protective': 3515, 'disaster': 1237, 'willing': 4874, 'orange': 3151, 'security': 3900, 'empty': 1446, 'match': 2777, 'crypto': 1033, 'binance': 402, 'pledge': 3359, 'quicker': 3575, 'proven': 3523, 'society': 4110, 'whistleblower': 4855, 'itv': 2403, 'elderly': 1423, 'invented': 2357, 'eng': 1454, 'sub': 4309, 'swiss': 4382, 'horrible': 2141, 'shouldn': 4005, 'genomic': 1876, 'sinophobia': 4053, 'average': 294, 'ability': 7, 'football': 1760, 'sport': 4192, 'single': 4051, 'register': 3669, 'xenophobic': 4958, 'measles': 2795, 'porn': 3392, 'winning': 4880, 'league': 2572, 'praying': 3424, 'modern': 2897, 'genuinely': 1879, 'academic': 18, 'prob': 3478, 'loan': 2650, 'bacteria': 311, 'evaluated': 1522, 'turned': 4626, 'awful': 305, 'esta': 1502, 'perfect': 3287, 'storm': 4274, 'exists': 1562, 'filthy': 1703, 'communism': 822, 'brief': 492, 'confident': 850, 'award': 300, 'complete': 833, 'ani': 165, 'adult': 58, 'cast': 613, 'quarter': 3566, 'steal': 4249, 'weaponize': 4811, 'challenge': 664, 'winter': 4881, 'fully': 1831, 'weed': 4821, 'minor': 2865, 'stomach': 4268, 'fyi': 1845, 'studying': 4303, 'mile': 2848, 'aside': 251, 'minimize': 2860, 'unfortunately': 4661, 'direct': 1225, 'importing': 2248, 'realize': 3626, 'amongst': 153, 'per': 3284, 'legend': 2590, 'pro': 3476, 'sequencing': 3939, 'experience': 1575, 'capacity': 583, 'malay': 2728, 'labeled': 2525, 'goal': 1913, 'author': 289, 'actual': 40, 'estimated': 1506, 'tds': 4414, 'father': 1652, 'papa': 3233, 'answered': 176, 'democrat': 1145, 'imp': 2231, 'rlly': 3777, 'kahit': 2463, 'lysol': 2699, 'doubt': 1326, 'onset': 3133, 'danger': 1067, 'production': 3488, 'aapl': 1, 'trading': 4560, 'newsletter': 3030, 'kept': 2474, 'po': 3371, 'sleep': 4073, 'explodes': 1587, 'yea': 4965, 'delivers': 1139, 'truck': 4605, 'district': 1278, 'seller': 3915, 'googled': 1929, 'sho': 3990, 'fuckin': 1825, 'dark': 1070, 'lately': 2550, 'vote': 4766, 'greece': 1958, 'connecticut': 864, 'popular': 3388, 'allows': 128, 'premier': 3437, 'worsens': 4921, 'ivory': 2406, 'sana': 3828, 'scarier': 3852, 'announcement': 169, 'mea': 2789, 'poll': 3382, 'management': 2738, 'recovery': 3651, 'extend': 1598, 'festival': 1682, 'fallout': 1631, 'tesla': 4444, 'bioweapon': 408, 'increasingly': 2267, 'publishes': 3538, 'catastrophic': 618, 'jones': 2446, 'wrote': 4937, 'alcohol': 111, 'impossible': 2252, 'spending': 4179, 'ctv': 1036, 'aka': 107, 'topbuzz': 4533, 'sensible': 3929, 'permanent': 3293, 'soo': 4136, 'documented': 1294, 'becoming': 359, 'tear': 4418, 'gas': 1856, 'sake': 3820, 'performance': 3288, 'athletics': 272, 'championship': 666, 'destruction': 1175, 'unwell': 4681, 'lived': 2640, 'inner': 2315, 'hypochondriac': 2187, 'nut': 3089, 'francis': 1795, 'ass': 256, 'invent': 2356, 'robert': 3780, 'sanitizer': 3831, 'transmit': 4572, 'method': 2826, 'pak': 3221, 'content': 889, 'newprofilepic': 3025, 'intensify': 2338, 'humble': 2171, 'hoax': 2111, 'parody': 3245, 'interactive': 2340, 'coronaviruscanada': 932, 'chest': 696, 'nose': 3068, 'frontline': 1820, 'tariff': 4408, 'upset': 4687, 'stats': 4243, 'helpful': 2072, 'doesnt': 1300, 'continuing': 894, 'drug': 1357, 'angeles': 161, 'massachusetts': 2774, 'hmmm': 2107, 'featuring': 1665, 'modelos': 2895, 'immigrant': 2225, 'consume': 875, 'role': 3783, 'virginia': 4745, 'cent': 649, 'property': 3506, 'ich': 2195, 'stfu': 4259, 'michigan': 2833, 'indiana': 2277, 'cooperation': 907, 'chen': 694, 'kobe': 2511, 'bryant': 513, 'goa': 1912, 'evacuating': 1519, 'soda': 4111, 'route': 3794, 'remove': 3699, 'abbvie': 3, 'coronavirusfrance': 937, 'coronaviruswuhan': 950, 'peace': 3271, 'realized': 3627, 'spelling': 4177, 'biden': 394, 'greatest': 1957, 'basketball': 338, 'distribution': 1277, 'maricopa': 2762, 'target': 4405, 'passing': 3257, 'tension': 4435, 'expanding': 1566, 'watched': 4802, 'outta': 3189, 'shout': 4006, 'girlfriend': 1895, 'job': 2436, 'sweden': 4377, 'blockchain': 428, 'vega': 4719, 'lose': 2675, 'brink': 500, 'staying': 4246, 'ard': 220, 'couldn': 974, 'exceeds': 1549, 'mate': 2778, 'nominate': 3057, 'champion': 665, 'airlift': 101, 'sentence': 3932, 'sense': 3927, 'pharmaceutical': 3308, 'secret': 3892, 'anonymous': 173, 'hunt': 2179, 'missing': 2876, 'schumer': 3861, 'themselves': 4464, 'economics': 1402, 'apart': 194, 'discovery': 1244, 'forest': 1773, 'harder': 2018, 'cytokine': 1058, 'asu': 268, 'stat': 4236, 'christmas': 723, 'island': 2383, 'apartment': 195, 'helicopter': 2067, 'iraq': 2374, 'silent': 4036, 'importance': 2244, 'convinced': 903, 'alabama': 108, 'stopping': 4272, 'arrive': 237, 'respond': 3733, 'unexpected': 4660, 'recap': 3634, 'funding': 1836, 'card': 590, 'fda': 1658, 'cleared': 747, 'approved': 214, 'protects': 3516, 'specifically': 4171, 'ftse': 1821, 'master': 2776, 'protester': 3519, 'proposed': 3510, 'jumped': 2454, 'followed': 1752, 'justin': 2461, 'messing': 2823, 'fearful': 1661, 'shunned': 4014, 'fragile': 1793, 'cool': 906, 'conflict': 858, 'tally': 4403, 'weakness': 4809, 'collapse': 795, 'power': 3412, 'cryptocurrency': 1034, 'serio': 3942, 'understanding': 4658, 'mapped': 2754, 'goin': 1917, 'chris': 720, 'martenson': 2769, 'newsalert': 3027, 'barely': 331, 'heat': 2059, 'degree': 1128, 'broke': 507, 'dun': 1366, 'tragedy': 4563, 'pushing': 3551, 'min': 2854, 'lobster': 2651, 'michael': 2832, 'impacted': 2233, 'continent': 890, 'edition': 1406, 'roommate': 3788, 'bush': 538, 'tax': 4411, 'tiktok': 4507, 'worldnews': 4913, 'attack': 274, 'translation': 4570, 'steam': 4250, 'factor': 1616, 'oms': 3126, 'usd': 4694, 'mit': 2881, 'carrielam': 602, 'nach': 2967, 'yuan': 4985, 'survive': 4359, 'weather': 4815, 'damage': 1063, 'wuhanoutbreak': 4951, 'charity': 679, 'wale': 4774, 'scramble': 3871, 'evac': 1515, 'carried': 601, 'strict': 4289, 'refund': 3660, 'booked': 450, 'camel': 561, 'harvard': 2025, 'wikipedia': 4867, 'mideast': 2839, 'nap': 2976, 'speak': 4164, 'bracing': 474, 'kicked': 2482, 'jew': 2432, 'lmfao': 2647, 'perhaps': 3289, 'burn': 535, 'anybody': 186, 'lymes': 2698, 'questioned': 3572, 'rna': 3778, 'receptor': 3639, 'gene': 1869, 'tough': 4543, 'suicide': 4326, 'brit': 501, 'flooding': 1740, 'prof': 3489, 'meltdown': 2810, 'fueling': 1828, 'biowarfare': 407, 'facebook': 1607, 'bushfires': 540, 'lang': 2539, 'confidence': 849, 'manila': 2743, 'survey': 4357, 'interviewed': 2350, 'statistic': 4242, 'panda': 3226, 'ambassador': 144, 'heartbreaking': 2057, 'bloomberg': 434, 'implemented': 2241, 'chang': 669, 'com': 803, 'flow': 1743, 'asset': 260, 'shameful': 3965, 'antiviral': 181, 'mongolia': 2908, 'shocking': 3993, 'jakarta': 2412, 'teaching': 4416, 'joy': 2451, 'sink': 4052, 'hint': 2099, 'pharma': 3307, 'forgot': 1777, 'account': 28, 'alright': 137, 'sensex': 3928, 'plummet': 3364, 'loser': 2676, 'koronavirus': 2518, 'sigh': 4029, 'accept': 22, 'tumble': 4621, 'distress': 1276, 'ino': 2317, 'dismissed': 1261, 'realizing': 3628, 'catastrophe': 617, 'bombshell': 447, 'republican': 3717, 'botswana': 461, 'sight': 4030, 'sufferer': 4320, 'mor': 2918, 'lacking': 2529, 'cambodia': 559, 'saving': 3841, 'xrp': 4961, 'med': 2798, 'influence': 2302, 'regulation': 3672, 'wide': 4862, 'spain': 4158, 'fleeing': 1734, 'rating': 3605, 'emperor': 1443, 'ghanaian': 1887, 'mayor': 2786, 'bangkok': 322, 'ethiopia': 1510, 'hai': 1996, 'aur': 282, 'slap': 4071, 'paying': 3270, 'pero': 3295, 'manage': 2736, 'iii': 2212, 'refused': 3662, 'toddler': 4519, 'dutch': 1373, 'silver': 4037, 'lining': 2625, 'hype': 2186, 'seventh': 3951, 'staysafe': 4247, 'false': 1632, 'searo': 3884, 'emro': 1447, 'afro': 79, 'kenyan': 2473, 'essential': 1500, 'slide': 4075, 'politician': 3380, 'blaming': 422, 'xiaomi': 4959, 'introduces': 2354, 'icymi': 2197, 'remains': 3691, 'dip': 1221, 'bought': 464, 'oth': 3167, 'snapshot': 4098, 'negatively': 3005, 'capitalism': 586, 'partner': 3251, 'spokesman': 4188, 'female': 1680, 'project': 3496, 'assistance': 263, 'bomb': 446, 'sri': 4211, 'lanka': 2541, 'ironic': 2377, 'eerie': 1410, 'quiet': 3577, 'srilanka': 4212, 'employee': 1444, 'kiwi': 2499, 'stranded': 4279, 'pending': 3277, 'eric': 1491, 'kobebraynt': 2512, 'letting': 2599, 'fund': 1834, 'along': 132, 'preparedness': 3442, 'thi': 4473, 'justify': 2460, 'disrespectful': 1266, 'charge': 678, 'temporarily': 4430, 'scheduled': 3858, 'villa': 4740, 'bond': 448, 'arrest': 233, 'activist': 38, 'cleaning': 745, 'ensure': 1463, 'asymptomatic': 270, 'brown': 511, 'fuel': 1827, 'consumer': 876, 'gop': 1931, 'auto': 292, 'overreacting': 3198, 'stage': 4217, 'confirme': 855, 'liner': 2623, 'sailing': 3818, 'ticket': 4503, 'relating': 3677, 'stereotype': 4257, 'luck': 2691, 'laughed': 2555, 'reducing': 3656, 'path': 3264, 'triggered': 4600, 'kno': 2503, 'excellent': 1550, 'memorial': 2813, 'relate': 3675, 'imo': 2230, 'fucker': 1824, 'uni': 4662, 'unit': 4665, 'scam': 3847, 'twice': 4633, 'sentiment': 3933, 'former': 1779, 'skip': 4066, 'btw': 516, 'shudder': 4013, 'physician': 3318, 'conservative': 867, 'bear': 349, 'intensifies': 2337, 'spx': 4207, 'hug': 2166, 'dropped': 1354, 'citing': 732, 'foxconn': 1791, 'samsung': 3826, 'lil': 2616, 'quit': 3578, 'jus': 2457, 'sweeping': 4378, 'racing': 3582, 'incoming': 2262, 'evacuee': 1521, 'habit': 1991, 'mainstream': 2717, 'cheaper': 686, 'text': 4449, 'virtual': 4748, 'heavily': 2061, 'brave': 477, 'pregnant': 3434, 'misconception': 2869, 'fam': 1634, 'career': 592, 'forefront': 1770, 'cheap': 685, 'professional': 3490, 'distraction': 1275, 'dominate': 1307, 'commodity': 819, 'severely': 3954, 'driven': 1347, 'thehill': 4460, 'cry': 1032, 'shanxi': 3968, 'batch': 340, 'idiotic': 2203, 'announcing': 171, 'yield': 4974, 'curve': 1048, 'caucus': 623, 'legal': 2589, 'consequence': 866, 'shipped': 3985, 'affair': 71, 'morgan': 2921, 'plasma': 3349, 'solidarity': 4120, 'leak': 2573, 'book': 449, 'delaying': 1132, 'canceled': 572, 'cincinnati': 728, 'netherlands': 3015, 'sustained': 4374, 'hole': 2117, 'slip': 4077, 'newjersey': 3022, 'asx': 269, 'panicking': 3232, 'shortage': 4001, 'critical': 1018, 'hashtag': 2026, 'din': 1218, 'missed': 2875, 'disgusting': 1254, 'jumping': 2455, 'confir': 852, 'undergo': 4654, 'oklahoma': 3119, 'sacrifice': 3812, 'destroying': 1174, 'trouble': 4604, 'nyc': 3092, 'floating': 1738, 'curated': 1039, 'co': 782, 'smartphone': 4088, 'beef': 361, 'florida': 1742, 'screaming': 3873, 'claiming': 739, 'spot': 4193, 'gmt': 1910, 'peak': 3272, 'experienced': 1576, 'holder': 2115, 'independent': 2273, 'significant': 4033, 'stabilising': 4214, 'pussy': 3552, 'deemed': 1114, 'issuing': 2395, 'visa': 4752, 'terrorist': 4443, 'absence': 13, 'suspicious': 4373, 'plenty': 3361, 'nifty': 3039, 'advising': 67, 'egg': 1417, 'pizza': 3334, 'delhi': 1136, 'pti': 3533, 'tightens': 4506, 'freak': 1798, 'semester': 3918, 'qatar': 3558, 'worl': 4910, 'recommends': 3644, 'outbre': 3176, 'chinatown': 708, 'spray': 4197, 'simon': 4039, 'rule': 3798, 'refer': 3657, 'bavaria': 345, 'marc': 2759, 'siegel': 4027, 'example': 1545, 'unlikely': 4672, 'allowing': 127, 'download': 1330, 'cali': 553, 'spokesperson': 4189, 'worked': 4906, 'genius': 1873, 'lka': 2645, 'iam': 2191, 'lift': 2609, 'stanley': 4227, 'smoker': 4095, 'environment': 1473, 'sam': 3823, 'indeed': 2271, 'supermarket': 4334, 'shopping': 3998, 'placed': 3337, 'enjoy': 1461, 'weaponized': 4812, 'tackling': 4395, 'misleading': 2873, 'bitter': 417, 'allegedly': 123, 'shaheen': 3960, 'bagh': 316, 'karona': 2467, 'changing': 672, 'fit': 1723, 'han': 2005, 'stole': 4266, 'nahi': 2969, 'spotted': 4195, 'straight': 4276, 'breath': 486, 'cruise': 1028, 'cancelling': 575, 'surpasses': 4351, 'elder': 1422, 'educate': 1408, 'prophet': 3508, 'vice': 4732, 'disrupt': 1267, 'nikkei': 3047, 'marketscreener': 2767, 'tune': 4622, 'slammed': 4070, 'richard': 3765, 'fkn': 1727, 'wegen': 4825, 'shove': 4008, 'depopulation': 1157, 'agenda': 86, 'mental': 2816, 'debt': 1096, 'jitter': 2435, 'therefore': 4470, 'bogus': 445, 're': 3611, 'harsh': 2024, 'ship': 3983, 'coronarvirues': 923, 'tournament': 4547, 'phoenix': 3314, 'mall': 2733, 'benefit': 381, 'checkpoint': 691, 'singaporean': 4049, 'angle': 163, 'setting': 3949, 'nairobi': 2972, 'wasnt': 4800, 'mocking': 2889, 'aviation': 296, 'driver': 1348, 'slash': 4072, 'coronavirusuk': 946, 'imported': 2247, 'glob': 1901, 'draw': 1339, 'duque': 1368, 'drove': 1356, 'onboard': 3127, 'bhi': 392, 'visualization': 4758, 'forecast': 1769, 'voluntary': 4763, 'operation': 3144, 'seat': 3887, 'characteristic': 677, 'infec': 2293, 'railway': 3589, 'sorted': 4142, 'obvious': 3100, 'coronavirusindia': 938, 'nowadays': 3079, 'held': 2066, 'goggles': 1916, 'euro': 1512, 'comparison': 829, 'repo': 3710, 'divided': 1283, 'introvert': 2355, 'sympathy': 4388, 'furious': 1839, 'flag': 1728, 'birth': 412, 'cna': 777, 'weighs': 4827, 'spent': 4180, 'dollar': 1304, 'jet': 2431, 'belief': 374, 'ingredient': 2311, 'cou': 968, 'diego': 1212, 'click': 750, 'livestream': 2642, 'approves': 215, 'midday': 2837, 'slight': 4076, 'bounce': 465, 'foreigner': 1772, 'insightful': 2325, 'regional': 3668, 'glass': 1900, 'ion': 2367, 'vector': 4718, 'parcel': 3241, 'chicken': 699, 'ultimate': 4645, 'narrative': 2978, 'amount': 154, 'austria': 288, 'badly': 314, 'airpods': 104, 'accidentally': 26, 'designed': 1169, 'domestic': 1306, 'union': 4663, 'involved': 2366, 'cope': 910, 'survivor': 4362, 'paramedic': 3237, 'chain': 660, 'confusion': 861, 'woe': 4896, 'supplier': 4336, 'skin': 4065, 'mode': 2890, 'zte': 4999, 'telecom': 4425, 'remote': 3698, 'prepping': 3447, 'wise': 4888, 'sends': 3925, 'letter': 2598, 'salute': 3822, 'liang': 2601, 'natural': 2986, 'starbucks': 4230, 'motivation': 2932, 'restrict': 3742, 'display': 1265, 'cease': 638, 'riot': 3770, 'dean': 1092, 'executive': 1555, 'ride': 3767, 'revenue': 3760, 'exotic': 1563, 'denmark': 1150, 'potentially': 3409, 'adhanom': 50, 'hhs': 2084, 'maker': 2724, 'miami': 2831, 'judge': 2452, 'ohio': 3116, 'descent': 1162, 'bangladesh': 323, 'impose': 2249, 'onto': 3135, 'caa': 551, 'hampshire': 2004, 'hay': 2037, 'der': 1161, 'determined': 1183, 'spend': 4178, 'stanning': 4228, 'isolating': 2389, 'advanced': 60, 'labour': 2527, 'vox': 4768, 'iphones': 2371, 'universal': 4667, 'mandatory': 2742, 'criminal': 1014, 'gdp': 1865, 'immigration': 2226, 'donated': 1313, 'reply': 3709, 'aggressive': 88, 'drive': 1346, 'ally': 129, 'cor': 914, 'projected': 3497, 'heavy': 2062, 'male': 2731, 'mull': 2948, 'cancer': 576, 'columbia': 802, 'greeting': 1961, 'foothold': 1761, 'protocol': 3520, 'neither': 3008, 'controlling': 901, 'roni': 3786, 'caryn': 608, 'denise': 1149, 'grady': 1947, 'birmingham': 411, 'looked': 2668, 'knock': 2504, 'apology': 199, 'cartoon': 607, 'request': 3718, 'funeral': 1837, 'rsa': 3797, 'workplace': 4909, 'hill': 2093, 'crack': 996, 'creates': 1004, 'volunteered': 4765, 'water': 4804, 'forming': 1780, 'whats': 4846, 'startling': 4234, 'tsunami': 4618, 'mph': 2944, 'responding': 3734, 'symbol': 4386, 'azar': 306, 'describes': 1165, 'erupted': 1493, 'lawrence': 2561, 'cock': 786, 'ball': 320, 'journey': 2450, 'mesa': 2820, 'manmade': 2747, 'initial': 2313, 'alive': 119, 'mcdonald': 2787, 'newest': 3021, 'loveisland': 2683, 'irrational': 2378, 'listening': 2633, 'artificially': 244, 'restricted': 3743, 'commissioner': 816, 'hawaii': 2035, 'honolulu': 2133, 'deliver': 1138, 'regular': 3671, 'risky': 3776, 'grown': 1972, 'breakthrough': 485, 'detroit': 1184, 'provided': 3525, 'gang': 1853, 'disrupting': 1269, 'booking': 451, 'chartered': 682, 'powerful': 3414, 'recommend': 3642, 'instance': 2329, 'ameripris': 149, 'homeless': 2122, 'deliberately': 1137, 'inevitable': 2289, 'bound': 466, 'corruption': 963, 'infectiousdisease': 2299, 'moron': 2923, 'realise': 3624, 'projection': 3498, 'flip': 1737, 'various': 4716, 'businessman': 542, 'catholic': 622, 'prepper': 3445, 'telework': 4426, 'continuity': 895, 'manitoba': 2745, 'nuke': 3085, 'sample': 3825, 'whistle': 4854, 'discrimination': 1246, 'suppose': 4340, 'johnson': 2439, 'policy': 3378, 'som': 4124, 'dick': 1205, 'superbowl': 4333, 'valentine': 4708, 'client': 751, 'repatriation': 3708, 'bathroom': 342, 'arrested': 234, 'explore': 1589, 'reliable': 3684, 'sniffle': 4102, 'successfully': 4314, 'peo': 3280, 'bowl': 469, 'develops': 1191, 'debunked': 1097, 'disinformation': 1260, 'plead': 3357, 'museum': 2953, 'hindi': 2097, 'reserve': 3724, 'israeli': 2392, 'weight': 4828, 'leaked': 2574, 'pile': 3328, 'main': 2714, 'doomed': 1319, 'feces': 1669, 'urine': 4691, 'crime': 1013, 'legitimate': 2592, 'offering': 3110, 'police': 3377, 'cow': 993, 'dung': 1367, 'celebrity': 643, 'pheic': 3311, 'bubble': 517, 'conversation': 902, 'alex': 114, 'pharmacy': 3309, 'outbr': 3175, 'migrant': 2843, 'final': 1704, 'briefly': 494, 'outstrip': 3188, 'refugee': 3659, 'ho': 2108, 'indonesian': 2283, 'airway': 106, 'armed': 230, 'us': 4692, 'elite': 1428, 'thin': 4474, 'herd': 2079, 'faq': 1641, 'retail': 3748, 'spirit': 4184, 'stall': 4220, 'david': 1077, 'expectation': 1570, 'fiscal': 1721, 'includes': 2260, 'bjp': 418, 'homoeopathy': 2124, 'capability': 581, 'thai': 4451, 'disinfect': 1256, 'height': 2064, 'transfer': 4568, 'toyota': 4552, 'heal': 2047, 'diverted': 1282, 'base': 333, 'freedom': 1804, 'movement': 2940, 'mini': 2858, 'pst': 3532, 'sooner': 4138, 'mum': 2951, 'forcing': 1768, 'cargo': 595, 'association': 265, 'constantly': 872, 'recession': 3640, 'vir': 4743, 'dependence': 1154, 'mission': 2877, 'isolate': 2386, 'pump': 3542, 'covered': 989, 'hunger': 2178, 'piss': 3333, 'surpass': 4350, 'prison': 3472, 'clue': 774, 'circumstance': 731, 'overtake': 3200, 'outrage': 3186, 'manufacturing': 2751, 'abuja': 16, 'disabled': 1231, 'cash': 610, 'afternoon': 81, 'modi': 2899, 'islamic': 2382, 'gauge': 1860, 'csse': 1035, 'kering': 2476, 'jack': 2408, 'procedure': 3483, 'coronaravirus': 920, 'viruscorona': 4751, 'grace': 1945, 'chip': 713, 'mixed': 2884, 'panel': 3228, 'bacterial': 312, 'closer': 765, 'eminem': 1440, 'breathing': 488, 'defeat': 1119, 'facing': 1613, 'cheer': 692, 'permission': 3294, 'tsla': 4617, 'delivery': 1140, 'surpassing': 4352, 'select': 3911, 'wrapup': 4930, 'mongering': 2907, 'fellow': 1677, 'prove': 3522, 'coronavirusupdates': 947, 'transparent': 4575, 'mot': 2930, 'ridiculous': 3768, 'ferry': 1681, 'roger': 3782, 'opec': 3138, 'billionaire': 400, 'donates': 1314, 'moon': 2916, 'compelling': 830, 'foxnews': 1792, 'hunter': 2180, 'gentle': 1877, 'mistaken': 2879, 'tragic': 4564, 'truly': 4609, 'tree': 4592, 'sheet': 3978, 'suspending': 4369, 'believing': 377, 'graduate': 1946, 'accuses': 31, 'jedrzejczyk': 2424, 'responds': 3735, 'zhang': 4990, 'weili': 4829, 'removing': 3701, 'effected': 1413, 'exceeding': 1548, 'experiment': 1578, 'coronovirusoutbreak': 956, 'abuse': 17, 'subject': 4310, 'fitch': 1724, 'adverse': 61, 'stolen': 4267, 'scrutiny': 3878, 'chairman': 662, 'powell': 3411, 'web': 4816, 'spin': 4183, 'shipper': 3986, 'dis': 1230, 'sichuan': 4021, 'nba': 2990, 'clorox': 761, 'disinfecting': 1258, 'fauci': 1653, 'lebanese': 2582, 'disruption': 1270, 'dirty': 1229, 'discovers': 1243, 'failure': 1624, 'thug': 4500, 'church': 726, 'coworker': 994, 'existed': 1559, 'seize': 3909, 'psa': 3530, 'santa': 3834, 'clara': 741, 'discussing': 1249, 'guinea': 1986, 'dynamic': 1379, 'punish': 3543, 'mock': 2888, 'arkansas': 228, 'sex': 3956, 'elizabeth': 1429, 'warren': 4793, 'shutter': 4018, 'joe': 2437, 'sponsored': 4190, 'scmp': 3865, 'hoarder': 2109, 'progress': 3494, 'primary': 3466, 'jenesuispasunvirus': 2426, 'fearing': 1662, 'aboard': 9, 'mix': 2883, 'fired': 1718, 'minimal': 2859, 'larry': 2545, 'kudlow': 2519, 'manipulation': 2744, 'scream': 3872, 'explode': 1586, 'overwatch': 3204, 'dictatorship': 1206, 'wuhanacuterespiratorysyndrome': 4944, 'makeshift': 2725, 'england': 1458, 'halting': 2002, 'launched': 2558, 'additional': 48, 'pla': 3335, 'stepping': 4256, 'dua': 1359, 'deeply': 1118, 'yahoo': 4962, 'lung': 2694, 'donaldtrump': 1311, 'gym': 1989, 'tweak': 4629, 'structure': 4296, 'soccer': 4108, 'writes': 4933, 'entirely': 1470, 'departure': 1153, 'presidential': 3451, 'raised': 3591, 'complacency': 832, 'eme': 1434, 'hurting': 2183, 'offensive': 3108, 'imho': 2221, 'newsfeed': 3028, 'diary': 1204, 'fansigns': 1640, 'allowed': 126, 'jabase': 2407, 'harm': 2021, 'ponder': 3384, 'intermediate': 2345, 'prohibited': 3495, 'eaten': 1395, 'currency': 1045, 'sig': 4028, 'shirt': 3988, 'code': 788, 'duterte': 1374, 'vein': 4721, 'formula': 1781, 'jerome': 2428, 'coronavirusph': 943, 'microsoft': 2835, 'forward': 1784, 'lawmaker': 2560, 'portion': 3394, 'pilot': 3329, 'coronaviruswho': 949, 'hea': 2040, 'hongkongprotests': 2132, 'volunteer': 4764, 'tribute': 4597, 'literal': 2635, 'plea': 3356, 'spare': 4160, 'overtakes': 3201, 'surviving': 4361, 'fia': 1687, 'symp': 4387, 'warm': 4787, 'operator': 3145, 'friendly': 1813, 'handshake': 2009, 'fair': 1625, 'inspired': 2327, 'plant': 3348, 'hun': 2175, 'sen': 3920, 'quote': 3580, 'bath': 341, 'incredible': 2268, 'nintendo': 3049, 'king': 2493, 'overcome': 3194, 'coz': 995, 'ukraine': 4643, 'publish': 3536, 'insurance': 2332, 'nationality': 2984, 'evolution': 1537, 'herbal': 2078, 'prevents': 3461, 'mess': 2821, 'maintain': 2718, 'communication': 821, 'ethiopian': 1511, 'equatorial': 1486, 'incompetence': 2263, 'tencent': 4433, 'relative': 3680, 'epi': 1475, 'dems': 1146, 'gathering': 1859, 'ross': 3791, 'infe': 2292, 'knee': 2501, 'zoonotic': 4998, 'shipment': 3984, 'decrease': 1112, 'dublin': 1361, 'asean': 248, 'indefinitely': 2272, 'trail': 4565, 'creator': 1007, 'defends': 1122, 'dock': 1288, 'slowdown': 4079, 'treasury': 4587, 'smart': 4086, 'jail': 2411, 'harmful': 2022, 'expo': 1590, 'openly': 3142, 'wilbur': 4869, 'access': 24, 'cape': 584, 'plagued': 3339, 'intelligence': 2336, 'gamers': 1851, 'shipping': 3987, 'dalio': 1062, 'bhai': 391, 'mistake': 2878, 'leishenshan': 2593, 'cruiseship': 1029, 'leftist': 2587, 'corporate': 957, 'owing': 3206, 'abeg': 6, 'underground': 4655, 'eastern': 1392, 'standwithhongkong': 4226, 'huoshenshan': 2181, 'underreporting': 4656, 'faced': 1608, 'freight': 1806, 'docked': 1289, 'jamia': 2416, 'ben': 380, 'honda': 2125, 'facial': 1611, 'blanket': 423, 'soaring': 4107, 'so': 4104, 'panicked': 3231, 'plot': 3362, 'chernobyl': 695, 'solved': 4123, 'pledged': 3360, 'enters': 1467, 'shocked': 3992, 'slam': 4069, 'occurred': 3104, 'blocked': 429, 'beautiful': 354, 'wirral': 4886, 'emotet': 1442, 'malware': 2734, 'nope': 3062, 'whilst': 4853, 'therapy': 4468, 'sea': 3879, 'boris': 455, 'singing': 4050, 'shopper': 3997, 'teen': 4423, 'wuhancoronavirusoutbreak': 4947, 'acute': 42, 'pin': 3330, 'alternative': 139, 'purchase': 3546, 'internationale': 2347, 'sit': 4056, 'hardest': 2019, 'instagram': 2328, 'bin': 401, 'pat': 3261, 'insider': 2323, 'cutting': 1053, 'gay': 1862, 'jacket': 2409, 'nail': 2970, 'pmi': 3369, 'limitation': 2620, 'climatechange': 753, 'territory': 4440, 'rome': 3785, 'joining': 2442, 'italia': 2397, 'marked': 2764, 'carson': 606, 'infant': 2291, 'civil': 736, 'hoffman': 2113, 'coronavi': 927, 'epoch': 1485, 'manufacture': 2748, 'theorist': 4466, 'brilliant': 496, 'genocide': 1874, 'mill': 2851, 'iowa': 2368, 'knocked': 2505, 'fwd': 1843, 'royal': 3796, 'tout': 4548, 'bno': 440, 'exponential': 1591, 'shine': 3982, 'cybersecurity': 1056, 'impressive': 2253, 'spoken': 4187, 'coronavirususa': 948, 'hardware': 2020, 'disembark': 1253, 'para': 3235, 'speech': 4173, 'picking': 3322, 'ninth': 3050, 'telebriefing': 4424, 'newsroom': 3032, 'steady': 4248, 'resistance': 3727, 'targeting': 4407, 'corrupt': 962, 'humming': 2173, 'elevates': 1426, 'subway': 4312, 'he': 2039, 'outlook': 3184, 'volatility': 4761, 'karnataka': 2466, 'peril': 3290, 'collection': 798, 'writing': 4934, 'wedding': 4819, 'met': 2824, 'democracy': 1144, 'ards': 221, 'diversity': 1281, 'klm': 2500, 'carnival': 599, 'secrecy': 3891, 'dinner': 1219, 'vaccinate': 4705, 'pacific': 3213, 'paranoia': 3238, 'impeached': 2236, 'dodgy': 1297, 'costa': 965, 'outcry': 3180, 'milan': 2846, 'genetically': 1872, 'bangladeshi': 324, 'facemask': 1609, 'diamond': 1200, 'dealer': 1090, 'industrial': 2287, 'pretend': 3455, 'brexitday': 490, 'aircraft': 100, 'myanmar': 2962, 'miner': 2857, 'nytimes': 3094, 'holocaust': 2119, 'naturally': 2987, 'outline': 3183, 'frog': 1817, 'goldman': 1920, 'uganda': 4639, 'manchester': 2741, 'distance': 1273, 'annual': 172, 'uploaded': 4685, 'grapple': 1953, 'newcastle': 3020, 'vessel': 4730, 'sb': 3845, 'gender': 1868, 'fury': 1841, 'mp': 2943, 'skyrocket': 4068, 'vulnerable': 4769, 'pulling': 3541, 'ncyt': 2995, 'filled': 1700, 'machine': 2703, 'liquid': 2629, 'counting': 977, 'siberia': 4020, 'monetary': 2905, 'majeure': 2719, 'dot': 1323, 'produce': 3485, 'unveils': 4680, 'device': 1192, 'copper': 912, 'isa': 2380, 'appearing': 207, 'correct': 960, 'worldhealthorganization': 4912, 'ordinary': 3155, 'roundup': 3793, 'reacts': 3618, 'organizer': 3160, 'kiss': 2495, 'webinar': 4817, 'pasteur': 3259, 'function': 1833, 'argument': 225, 'intentionally': 2339, 'sideline': 4026, 'producing': 3486, 'mein': 2807, 'attacked': 275, 'smartphones': 4089, 'delta': 1141, 'diagnostic': 1198, 'novacyt': 3074, 'downside': 1332, 'fallen': 1629, 'cybercriminals': 1055, 'violent': 4742, 'max': 2783, 'medication': 2802, 'june': 2456, 'coronavirusitalia': 939, 'seizure': 3910, 'direction': 1226, 'unique': 4664, 'chinazi': 710, 'pentagon': 3279, 'importation': 2246, 'lng': 2648, 'nor': 3063, 'trillion': 4601, 'drone': 1351, 'indoors': 2285, 'la': 2523, 'hockey': 2112, 'bulletin': 527, 'rwanda': 3809, 'wave': 4805, 'intravenous': 2353, 'cocaine': 785, 'ighalo': 2205, 'epl': 1484, 'personally': 3300, 'investing': 2363, 'wwg': 4955, 'wga': 4843, 'gaming': 1852, 'impacting': 2234, 'lpga': 2689, 'clown': 772, 'sequenced': 3938, 'horseman': 2144, 'coach': 783, 'gilead': 1892, 'sou': 4144, 'squad': 4209, 'frightened': 1814, 'mar': 2756, 'remdesivir': 3692, 'graph': 1951, 'ukrainian': 4644, 'ibio': 2193, 'ethical': 1509, 'breakout': 484, 'anthony': 177, 'rea': 3612, 'stable': 4215, 'catalyst': 616, 'title': 4517, 'walmart': 4778, 'myth': 2966, 'turner': 4627, 'joined': 2441, 'elsewhere': 1431, 'utd': 4703, 'duration': 1369, 'evolved': 1538, 'repatriated': 3707, 'contains': 886, 'insertion': 2321, 'stoking': 4265, 'sort': 4141, 'rescue': 3719, 'shooting': 3995, 'numerous': 3087, 'kidding': 2484, 'recognition': 3641, 'freezerohedge': 1805, 'mainly': 2716, 'overblown': 3193, 'cop': 909, 'hindu': 2098, 'mahasabha': 2711, 'spice': 4181, 'doxxing': 1333, 'hero': 2082, 'fujifilm': 1829, 'georgia': 1880, 'exaggerated': 1542, 'joint': 2443, 'una': 4646, 'physical': 3317, 'taxi': 4412, 'qantas': 3557, 'fri': 1810, 'mouse': 2937, 'admitting': 57, 'cottrell': 967, 'casino': 612, 'percent': 3285, 'basis': 337, 'removed': 3700, 'incident': 2257, 'admin': 52, 'paddington': 3217, 'aerosol': 69, 'filter': 1702, 'boarding': 442, 'ski': 4064, 'letsbeatcoronatogether': 2597, 'clueless': 775, 'arresting': 235, 'eater': 1396, 'kim': 2489, 'jong': 2447, 'size': 4063, 'aim': 95, 'courage': 981, 'malaria': 2727, 'confined': 851, 'paid': 3219, 'mining': 2861, 'pull': 3539, 'withdraws': 4893, 'pee': 3274, 'captain': 587, 'censorship': 648, 'defense': 1123, 'abandoned': 2, 'tiny': 4513, 'pastor': 3260, 'exploiting': 1588, 'rare': 3601, 'obama': 3095, 'famous': 1637, 'ken': 2471, 'eighth': 1420, 'hunan': 2176, 'relationship': 3679, 'tank': 4404, 'malicious': 2732, 'fade': 1619, 'nepali': 3012, 'birdflu': 410, 'dod': 1295, 'disappointed': 1236, 'abe': 5, 'vow': 4767, 'combination': 805, 'attended': 278, 'lackland': 2530, 'afb': 70, 'censoring': 647, 'enemy': 1451, 'devastating': 1185, 'wreaking': 4931, 'ivanka': 2404, 'pigeon': 3327, 'periscope': 3292, 'heartgang': 2058, 'spreadluv': 4204, 'itbp': 2400, 'preppers': 3446, 'nomeat': 3056, 'nocoronavirus': 3054, 'sin': 4045, 'shandong': 3966, 'pax': 3268, 'library': 2604, 'dea': 1083, 'worship': 4922, 'saint': 3819, 'rampal': 3595, 'maharaj': 2710, 'indication': 2280, 'serving': 3946, 'coronarivus': 921, 'shelter': 3979, 'avian': 295, 'soul': 4145, 'cremated': 1011, 'section': 3897, 'apps': 216, 'scold': 3866, 'urged': 4689, 'command': 810, 'resilient': 3726, 'mixture': 2885, 'supreme': 4343, 'ove': 3190, 'buffet': 521, 'cloud': 770, 'artificial': 243, 'punished': 3544, 'prankster': 3420, 'censor': 645, 'lea': 2566, 'hilton': 2094, 'negotiation': 3006, 'barcelona': 330, 'silenced': 4035, 'focused': 1749, 'properly': 3505, 'wine': 4878, 'defence': 1120, 'difficulty': 1216, 'hair': 1997, 'declined': 1111, 'directive': 1227, 'apparent': 201, 'success': 4313, 'cocktail': 787, 'mitigate': 2882, 'lasting': 2548, 'suppress': 4342, 'relevant': 3683, 'smile': 4092, 'prank': 3419, 'shed': 3977, 'overall': 3192, 'exposing': 1595, 'kuo': 2521, 'marat': 2757, 'finance': 1706, 'in': 2254, 'combined': 806, 'candidate': 577, 'behavior': 370, 'promising': 3499, 'resume': 3747, 'software': 4114, 'penalty': 3276, 'pshuttle': 3531, 'coronavrius': 952, 'hacker': 1992, 'secretive': 3894, 'obsession': 3099, 'reopen': 3704, 'opt': 3148, 'paralysis': 3236, 'extended': 1599, 'diy': 1284, 'grocery': 1964, 'assuming': 267, 'garlic': 1855, 'campbell': 566, 'diarrhea': 1203, 'prejudice': 3435, 'cap': 580, 'equipment': 1487, 'rescued': 3720, 'southafrica': 4153, 'menace': 2815, 'crucial': 1026, 'threatened': 4489, 'comedian': 808, 'discharge': 1238, 'clothes': 768, 'eventually': 1527, 'overcoming': 3195, 'clip': 759, 'sprayed': 4198, 'dance': 1066, 'rejected': 3674, 'file': 1696, 'discriminate': 1245, 'enhanced': 1460, 'moral': 2919, 'nears': 2999, 'iceberg': 2194, 'deepening': 1116, 'defend': 1121, 'rage': 3586, 'susceptible': 4363, 'zhejiang': 4991, 'irresponsible': 2379, 'linger': 2624, 'forbes': 1764, 'pulled': 3540, 'tied': 4504, 'shortcoming': 4002, 'deficiency': 1124, 'boyle': 472, 'grand': 1948, 'prix': 3475, 'boss': 458, 'operated': 3143, 'flawed': 1732, 'donation': 1316, 'awaiting': 299, 'mountain': 2935, 'gordon': 1932, 'gottlieb': 1936, 'themed': 4463, 'curecancer': 1042, 'trueworship': 4608, 'whic': 4850, 'noted': 3071, 'gambling': 1849, 'globalization': 1906, 'attend': 277, 'insurer': 2333, 'valid': 4709, 'travis': 4586, 'hongkongers': 2131, 'microscope': 2834, 'locally': 2653, 'baba': 307, 'chloroquine': 715, 'effectively': 1415, 'committed': 817, 'envision': 1474, 'cointelegraph': 792, 'cfr': 659, 'phishing': 3313, 'insists': 2326, 'definition': 1127, 'nokia': 3055, 'cola': 793, 'innovation': 2316, 'wanting': 4783, 'westjet': 4841, 'guest': 1982, 'organiser': 3158, 'tedros': 4422, 'hyundai': 2190, 'addition': 47, 'fiction': 1688, 'separated': 3936, 'ignoring': 2211, 'sotu': 4143, 'nike': 3046, 'defies': 1125, 'globaleconomy': 1903, 'suggesting': 4324, 'denied': 1147, 'princess': 3469, 'caveat': 630, 'arirang': 226, 'widely': 4863, 'yokohama': 4976, 'computer': 836, 'mwc': 2961, 'fashion': 1645, 'banker': 326, 'probe': 3481, 'withdraw': 4892, 'unpaid': 4674, 'training': 4567, 'dutton': 1375, 'maria': 2761, 'optimism': 3149, 'prayforwuhan': 3423, 'lick': 2605, 'adidas': 51, 'liquidit': 2630, 'bundle': 532, 'secure': 3899, 'sony': 4135, 'shadow': 3959, 'math': 2780, 'newborn': 3019, 'christ': 721, 'mankind': 2746, 'expe': 1568, 'electronics': 1425, 'gift': 1890, 'gasoline': 1857, 'flash': 1729, 'docking': 1290, 'kfc': 2479, 'ambition': 145, 'worldometer': 4914, 'buyer': 547, 'hoarding': 2110, 'trace': 4553, 'concise': 844, 'youngest': 4980, 'square': 4210, 'crackdown': 997, 'korle': 2517, 'ignores': 2210, 'assembly': 258, 'emission': 1441, 'disinfection': 1259, 'corononavirus': 954, 'sanofi': 3833, 'miramar': 2867, 'hometown': 2123, 'reliance': 3685, 'brighton': 495, 'sounded': 4147, 'wenliang': 4834, 'wind': 4876, 'alleged': 122, 'authoritarian': 290, 'disrupts': 1271, 'sounding': 4148, 'startup': 4235, 'drliwenliang': 1350, 'outer': 3181, 'sack': 3810, 'chapter': 676, 'blower': 436, 'chaotic': 675, 'halve': 2003, 'fifty': 1691, 'frank': 1797, 'antonio': 182, 'failing': 1622, 'peaked': 3273, 'ignored': 2209, 'disclosed': 1240, 'approval': 213, 'infodemic': 2305, 'chase': 683, 'crop': 1020, 'dir': 1223, 'burberry': 534, 'pangolin': 3229, 'norwegian': 3067, 'sixty': 4062, 'chronic': 724, 'ignorance': 2206, 'fewer': 1685, 'ericsson': 1492, 'coronarvirusoutbreak': 925, 'liwenliang': 2644, 'dire': 1224, 'diamondprincess': 1201, 'quar': 3562, 'powered': 3413, 'coronavius': 951, 'wartime': 4794, 'downgrade': 1329, 'milton': 2853, 'keynes': 2478, 'persist': 3296, 'dragged': 1336, 'reopening': 3705, 'fecal': 1668, 'disappears': 1235, 'clothing': 769, 'nvidia': 3091, 'presence': 3448, 'sander': 3830, 'torture': 4536, 'overtaking': 3202, 'discussed': 1248, 'coronavirusreports': 944, 'majorca': 2721, 'chalet': 663, 'restart': 3740, 'mac': 2700, 'valued': 4712, 'odion': 3106, 'bahcesaray': 317, 'pegasus': 3275, 'coronavirustruth': 945, 'assault': 257, 'alp': 135, 'easing': 1390, 'shouting': 4007, 'forcibly': 1767, 'nazi': 2989, 'medicare': 2801, 'ncp': 2993, 'limbo': 2617, 'prophecy': 3507, 'stagger': 4218, 'chronicle': 725, 'globalists': 1905, 'oly': 3121, 'qiushi': 3559, 'gucci': 1980, 'hotpot': 2153, 'stephen': 4254, 'revise': 3762, 'kitchen': 2498, 'tottenham': 4539, 'dele': 1133, 'alli': 124, 'apologises': 198, 'exiled': 1557, 'dissident': 1272, 'hsbc': 2161, 'inflation': 2301, 'lowest': 2687, 'creepy': 1010, 'grandmother': 1949, 'strait': 4278, 'listing': 2634, 'nissan': 3051, 'gsma': 1975, 'recovering': 3650, 'gps': 1944, 'coronavirusfacts': 936, 'bump': 530, 'domino': 1308, 'button': 545, 'dismisses': 1262, 'modeling': 2893, 'crunch': 1030, 'hal': 1998, 'sanction': 3829, 'sacked': 3811, 'mistakenly': 2880, 'pipe': 3331, 'eas': 1386, 'intel': 2335, 'criterion': 1016, 'unchecked': 4650, 'coronavirusjapan': 941, 'clearing': 748, 'covid': 992, 'falun': 1633, 'gong': 1923, 'practitioner': 3417, 'galaxy': 1848, 'fbi': 1657, 'coronavavirus': 926, 'soften': 4113, 'stagnates': 4219, 'db': 1082, 'hysterical': 2189, 'appeared': 206, 'shave': 3975, 'exaronews': 1546, 'mislabeled': 2872, 'inquiry': 2319, 'intraday': 2352, 'deeper': 1117, 'oxford': 3211, 'westerdam': 4839, 'bakker': 318, 'daegu': 1060, 'sarscov': 3836, 'lawyer': 2562, 'hotbed': 2150, 'seemed': 3906, 'militarization': 2849, 'darkness': 1071, 'napa': 2977, 'rural': 3804, 'covd': 986, 'mln': 2886, 'sona': 4133, 'stimulus': 4263, 'kai': 2464, 'strongly': 4294, 'misjudge': 2871, 'condemn': 845, 'vanished': 4714, 'runway': 3803, 'koontz': 2514, 'imf': 2220, 'caring': 597, 'religious': 3689, 'rescuer': 3721, 'modeler': 2892, 'gaze': 1863, 'coronavirius': 929, 'neighbour': 3007, 'entrance': 1471, 'pickup': 3323, 'marathon': 2758, 'cameroon': 563, 'hawaiian': 2036, 'recount': 3647, 'ipad': 2369, 'liu': 2638, 'zhiming': 4992, 'msc': 2945, 'jaguar': 2410, 'rover': 3795, 'coronavirusdeath': 934, 'magu': 2709, 'omaha': 3124, 'petri': 3306, 'efcc': 1411, 'lcc': 2564, 'casi': 611, 'expels': 1574, 'incinerator': 2258, 'qom': 3560, 'cult': 1037, 'iata': 2192, 'gdc': 1864, 'sect': 3896, 'humboldt': 2172, 'clash': 742, 'lebanon': 2583, 'narrowing': 2979, 'lombardy': 2662, 'apc': 196, 'fayose': 1656, 'coronavirusitaly': 940, 'bungling': 533, 'untraceable': 4678, 'giorgio': 1893, 'armani': 229, 'venice': 4723, 'raid': 3587}\n"
     ]
    }
   ],
   "source": [
    "print(tfidf_vect.vocabulary_)"
   ]
  },
  {
   "cell_type": "code",
   "execution_count": 46,
   "id": "0f806380",
   "metadata": {},
   "outputs": [],
   "source": [
    "from sklearn.svm import SVC\n",
    "from sklearn.metrics import accuracy_score\n",
    "from sklearn.metrics import ConfusionMatrixDisplay,classification_report\n",
    "from sklearn.preprocessing import LabelBinarizer"
   ]
  },
  {
   "cell_type": "code",
   "execution_count": 47,
   "id": "2516970f",
   "metadata": {},
   "outputs": [
    {
     "data": {
      "text/html": [
       "<style>#sk-container-id-1 {color: black;background-color: white;}#sk-container-id-1 pre{padding: 0;}#sk-container-id-1 div.sk-toggleable {background-color: white;}#sk-container-id-1 label.sk-toggleable__label {cursor: pointer;display: block;width: 100%;margin-bottom: 0;padding: 0.3em;box-sizing: border-box;text-align: center;}#sk-container-id-1 label.sk-toggleable__label-arrow:before {content: \"▸\";float: left;margin-right: 0.25em;color: #696969;}#sk-container-id-1 label.sk-toggleable__label-arrow:hover:before {color: black;}#sk-container-id-1 div.sk-estimator:hover label.sk-toggleable__label-arrow:before {color: black;}#sk-container-id-1 div.sk-toggleable__content {max-height: 0;max-width: 0;overflow: hidden;text-align: left;background-color: #f0f8ff;}#sk-container-id-1 div.sk-toggleable__content pre {margin: 0.2em;color: black;border-radius: 0.25em;background-color: #f0f8ff;}#sk-container-id-1 input.sk-toggleable__control:checked~div.sk-toggleable__content {max-height: 200px;max-width: 100%;overflow: auto;}#sk-container-id-1 input.sk-toggleable__control:checked~label.sk-toggleable__label-arrow:before {content: \"▾\";}#sk-container-id-1 div.sk-estimator input.sk-toggleable__control:checked~label.sk-toggleable__label {background-color: #d4ebff;}#sk-container-id-1 div.sk-label input.sk-toggleable__control:checked~label.sk-toggleable__label {background-color: #d4ebff;}#sk-container-id-1 input.sk-hidden--visually {border: 0;clip: rect(1px 1px 1px 1px);clip: rect(1px, 1px, 1px, 1px);height: 1px;margin: -1px;overflow: hidden;padding: 0;position: absolute;width: 1px;}#sk-container-id-1 div.sk-estimator {font-family: monospace;background-color: #f0f8ff;border: 1px dotted black;border-radius: 0.25em;box-sizing: border-box;margin-bottom: 0.5em;}#sk-container-id-1 div.sk-estimator:hover {background-color: #d4ebff;}#sk-container-id-1 div.sk-parallel-item::after {content: \"\";width: 100%;border-bottom: 1px solid gray;flex-grow: 1;}#sk-container-id-1 div.sk-label:hover label.sk-toggleable__label {background-color: #d4ebff;}#sk-container-id-1 div.sk-serial::before {content: \"\";position: absolute;border-left: 1px solid gray;box-sizing: border-box;top: 0;bottom: 0;left: 50%;z-index: 0;}#sk-container-id-1 div.sk-serial {display: flex;flex-direction: column;align-items: center;background-color: white;padding-right: 0.2em;padding-left: 0.2em;position: relative;}#sk-container-id-1 div.sk-item {position: relative;z-index: 1;}#sk-container-id-1 div.sk-parallel {display: flex;align-items: stretch;justify-content: center;background-color: white;position: relative;}#sk-container-id-1 div.sk-item::before, #sk-container-id-1 div.sk-parallel-item::before {content: \"\";position: absolute;border-left: 1px solid gray;box-sizing: border-box;top: 0;bottom: 0;left: 50%;z-index: -1;}#sk-container-id-1 div.sk-parallel-item {display: flex;flex-direction: column;z-index: 1;position: relative;background-color: white;}#sk-container-id-1 div.sk-parallel-item:first-child::after {align-self: flex-end;width: 50%;}#sk-container-id-1 div.sk-parallel-item:last-child::after {align-self: flex-start;width: 50%;}#sk-container-id-1 div.sk-parallel-item:only-child::after {width: 0;}#sk-container-id-1 div.sk-dashed-wrapped {border: 1px dashed gray;margin: 0 0.4em 0.5em 0.4em;box-sizing: border-box;padding-bottom: 0.4em;background-color: white;}#sk-container-id-1 div.sk-label label {font-family: monospace;font-weight: bold;display: inline-block;line-height: 1.2em;}#sk-container-id-1 div.sk-label-container {text-align: center;}#sk-container-id-1 div.sk-container {/* jupyter's `normalize.less` sets `[hidden] { display: none; }` but bootstrap.min.css set `[hidden] { display: none !important; }` so we also need the `!important` here to be able to override the default hidden behavior on the sphinx rendered scikit-learn.org. See: https://github.com/scikit-learn/scikit-learn/issues/21755 */display: inline-block !important;position: relative;}#sk-container-id-1 div.sk-text-repr-fallback {display: none;}</style><div id=\"sk-container-id-1\" class=\"sk-top-container\"><div class=\"sk-text-repr-fallback\"><pre>SVC(kernel=&#x27;linear&#x27;, probability=True)</pre><b>In a Jupyter environment, please rerun this cell to show the HTML representation or trust the notebook. <br />On GitHub, the HTML representation is unable to render, please try loading this page with nbviewer.org.</b></div><div class=\"sk-container\" hidden><div class=\"sk-item\"><div class=\"sk-estimator sk-toggleable\"><input class=\"sk-toggleable__control sk-hidden--visually\" id=\"sk-estimator-id-1\" type=\"checkbox\" checked><label for=\"sk-estimator-id-1\" class=\"sk-toggleable__label sk-toggleable__label-arrow\">SVC</label><div class=\"sk-toggleable__content\"><pre>SVC(kernel=&#x27;linear&#x27;, probability=True)</pre></div></div></div></div></div>"
      ],
      "text/plain": [
       "SVC(kernel='linear', probability=True)"
      ]
     },
     "execution_count": 47,
     "metadata": {},
     "output_type": "execute_result"
    }
   ],
   "source": [
    "svm_model = SVC(probability = True, kernel = 'linear')\n",
    "svm_model.fit(X_train_tfidf, y_train )"
   ]
  },
  {
   "cell_type": "code",
   "execution_count": 48,
   "id": "77c0186f",
   "metadata": {},
   "outputs": [
    {
     "data": {
      "text/html": [
       "<div>\n",
       "<style scoped>\n",
       "    .dataframe tbody tr th:only-of-type {\n",
       "        vertical-align: middle;\n",
       "    }\n",
       "\n",
       "    .dataframe tbody tr th {\n",
       "        vertical-align: top;\n",
       "    }\n",
       "\n",
       "    .dataframe thead th {\n",
       "        text-align: right;\n",
       "    }\n",
       "</style>\n",
       "<table border=\"1\" class=\"dataframe\">\n",
       "  <thead>\n",
       "    <tr style=\"text-align: right;\">\n",
       "      <th></th>\n",
       "      <th>Tweet</th>\n",
       "      <th>Label</th>\n",
       "    </tr>\n",
       "  </thead>\n",
       "  <tbody>\n",
       "    <tr>\n",
       "      <th>8225</th>\n",
       "      <td>duterte like welcome all chinese especially co...</td>\n",
       "      <td>neu</td>\n",
       "    </tr>\n",
       "    <tr>\n",
       "      <th>10794</th>\n",
       "      <td>cdc detailed information stating the infected ...</td>\n",
       "      <td>neu</td>\n",
       "    </tr>\n",
       "    <tr>\n",
       "      <th>9163</th>\n",
       "      <td>coronavirus update pandemic</td>\n",
       "      <td>neu</td>\n",
       "    </tr>\n",
       "    <tr>\n",
       "      <th>26591</th>\n",
       "      <td>more than healthcare personnel china infected ...</td>\n",
       "      <td>pos</td>\n",
       "    </tr>\n",
       "    <tr>\n",
       "      <th>6631</th>\n",
       "      <td>brent recoups china virus angst fed speak play...</td>\n",
       "      <td>neu</td>\n",
       "    </tr>\n",
       "    <tr>\n",
       "      <th>...</th>\n",
       "      <td>...</td>\n",
       "      <td>...</td>\n",
       "    </tr>\n",
       "    <tr>\n",
       "      <th>21914</th>\n",
       "      <td>united panic bought striker and are now tellin...</td>\n",
       "      <td>neu</td>\n",
       "    </tr>\n",
       "    <tr>\n",
       "      <th>17453</th>\n",
       "      <td>teehee coronavirus pangolin host</td>\n",
       "      <td>neu</td>\n",
       "    </tr>\n",
       "    <tr>\n",
       "      <th>20344</th>\n",
       "      <td>nzd usd technical bias bearish dow jones brush...</td>\n",
       "      <td>neu</td>\n",
       "    </tr>\n",
       "    <tr>\n",
       "      <th>1878</th>\n",
       "      <td>coronavirus sound like something you catch dri...</td>\n",
       "      <td>neu</td>\n",
       "    </tr>\n",
       "    <tr>\n",
       "      <th>6465</th>\n",
       "      <td>update beijing reported new case pneumonia fro...</td>\n",
       "      <td>neu</td>\n",
       "    </tr>\n",
       "  </tbody>\n",
       "</table>\n",
       "<p>9000 rows × 2 columns</p>\n",
       "</div>"
      ],
      "text/plain": [
       "                                                   Tweet Label\n",
       "8225   duterte like welcome all chinese especially co...   neu\n",
       "10794  cdc detailed information stating the infected ...   neu\n",
       "9163                         coronavirus update pandemic   neu\n",
       "26591  more than healthcare personnel china infected ...   pos\n",
       "6631   brent recoups china virus angst fed speak play...   neu\n",
       "...                                                  ...   ...\n",
       "21914  united panic bought striker and are now tellin...   neu\n",
       "17453                   teehee coronavirus pangolin host   neu\n",
       "20344  nzd usd technical bias bearish dow jones brush...   neu\n",
       "1878   coronavirus sound like something you catch dri...   neu\n",
       "6465   update beijing reported new case pneumonia fro...   neu\n",
       "\n",
       "[9000 rows x 2 columns]"
      ]
     },
     "execution_count": 48,
     "metadata": {},
     "output_type": "execute_result"
    }
   ],
   "source": [
    "svm_predictions = svm_model.predict(X_test_tfidf)\n",
    "Predicted_data = pd.DataFrame()\n",
    "Predicted_data['Tweet'] = X_test\n",
    "Predicted_data['Label'] = svm_predictions\n",
    "Predicted_data"
   ]
  },
  {
   "cell_type": "code",
   "execution_count": 50,
   "id": "03f39220",
   "metadata": {},
   "outputs": [
    {
     "data": {
      "text/plain": [
       "neu    7267\n",
       "neg    1341\n",
       "pos     392\n",
       "Name: Label, dtype: int64"
      ]
     },
     "execution_count": 50,
     "metadata": {},
     "output_type": "execute_result"
    }
   ],
   "source": [
    "Predicted_data['Label'].value_counts()\n"
   ]
  },
  {
   "cell_type": "code",
   "execution_count": 51,
   "id": "efe03913",
   "metadata": {},
   "outputs": [
    {
     "data": {
      "text/plain": [
       "<sklearn.metrics._plot.confusion_matrix.ConfusionMatrixDisplay at 0x1bc21ea3910>"
      ]
     },
     "execution_count": 51,
     "metadata": {},
     "output_type": "execute_result"
    },
    {
     "data": {
      "image/png": "[encoded data removed]",
      "text/plain": [
       "<Figure size 432x288 with 2 Axes>"
      ]
     },
     "metadata": {
      "needs_background": "light"
     },
     "output_type": "display_data"
    }
   ],
   "source": [
    "ConfusionMatrixDisplay.from_predictions(y_test, svm_predictions)"
   ]
  },
  {
   "cell_type": "code",
   "execution_count": 52,
   "id": "d4273c20",
   "metadata": {},
   "outputs": [
    {
     "data": {
      "text/plain": [
       "90.3111111111111"
      ]
     },
     "execution_count": 52,
     "metadata": {},
     "output_type": "execute_result"
    }
   ],
   "source": [
    "svm_accuracy = accuracy_score(svm_predictions, y_test)*100\n",
    "svm_accuracy"
   ]
  },
  {
   "cell_type": "code",
   "execution_count": 53,
   "id": "63eed68d",
   "metadata": {},
   "outputs": [
    {
     "name": "stdout",
     "output_type": "stream",
     "text": [
      "Classification Report:\n",
      "              precision    recall  f1-score   support\n",
      "\n",
      "         neg       0.90      0.75      0.82      1591\n",
      "         neu       0.91      0.97      0.94      6828\n",
      "         pos       0.79      0.53      0.64       581\n",
      "\n",
      "    accuracy                           0.90      9000\n",
      "   macro avg       0.86      0.75      0.80      9000\n",
      "weighted avg       0.90      0.90      0.90      9000\n",
      "\n"
     ]
    }
   ],
   "source": [
    "print(\"Classification Report:\")\n",
    "print(classification_report(y_test, svm_predictions))"
   ]
  },
  {
   "cell_type": "code",
   "execution_count": null,
   "id": "ba8bb47b",
   "metadata": {},
   "outputs": [],
   "source": []
  }
 ],
 "metadata": {
  "kernelspec": {
   "display_name": "Python 3 (ipykernel)",
   "language": "python",
   "name": "python3"
  },
  "language_info": {
   "codemirror_mode": {
    "name": "ipython",
    "version": 3
   },
   "file_extension": ".py",
   "mimetype": "text/x-python",
   "name": "python",
   "nbconvert_exporter": "python",
   "pygments_lexer": "ipython3",
   "version": "3.9.7"
  }
 },
 "nbformat": 4,
 "nbformat_minor": 5
}
